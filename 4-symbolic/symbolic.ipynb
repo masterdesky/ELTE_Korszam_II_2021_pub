{
 "cells": [
  {
   "cell_type": "markdown",
   "id": "0b3242f2-9dc5-431c-9de4-42a4af986aa9",
   "metadata": {},
   "source": [
    "# Szimbolikus számítások Pythonban\n",
    "\n",
    "A szimbolikus számítások/számítógépes algebra területének középpontjában a matematikai kifejezések számítógéppel elvégzett, analitikus manipulációja áll. Ez a megközelítés különbözik a numerikus számítási módszerekétől, ahol lebegőpontos számokkal közelítjük az egyes kifejezések értékét.\n",
    "\n",
    "A szimbolikus számítások előnye, hogy egzakt eredményekkel szolgál a különböző matematikai problémákra. Míg a numerikus számítások számára korlátot jelent a lebegőpontos számábrázolás maximális pontossága és így azzal mindig csak közelítő eredmény érhető el, addig szimbolikus számítások esetén ez a probléma nem áll fenn. Ennek eléréséhez az egyes adatok valamilyen megfelelő számrendszerben reprezentált számsorozatokat haszálunk.\n",
    "\n",
    "Ezt ténylegesen megírni úgy, hogy megfelelően is működjön és a számítások emberi idő alatt le is fussanak, nagyon nehéz. Szerencsére viszont a GNU Multiple Precision Arithmetic Library (GMP) libary minden ezzel kapcsolatos nehézséget már megoldott, így a legtöbb szoftver (pl. Mathematica, vagy Maple) manapság már ezt használja.\n",
    "\n",
    "A szimbolikus számítások elvégzésére képes applikációkat **Computer Algebra System**, vagy röviden **CAS** néven emlegetjük. Ebben a Notebookban egy ilyen CAS, név szerint a `sympy` Python csomagról lesz szó."
   ]
  },
  {
   "cell_type": "markdown",
   "id": "f7654f1c-8312-4b06-8a9f-a222c54940ea",
   "metadata": {},
   "source": [
    "## Python -- Sympy"
   ]
  },
  {
   "cell_type": "markdown",
   "id": "cbc96697-1f86-45cb-afc6-88b0729eaacb",
   "metadata": {},
   "source": [
    "#### 0.1. Telepítés\n",
    "\n",
    "Akár `pip`-vel, akár `conda`-val telepíthető:"
   ]
  },
  {
   "cell_type": "code",
   "execution_count": 1,
   "id": "13b641b4-e4fe-4c4b-8dc4-32d27bec14ca",
   "metadata": {},
   "outputs": [
    {
     "name": "stdout",
     "output_type": "stream",
     "text": [
      "Collecting package metadata (current_repodata.json): done\n",
      "Solving environment: done\n",
      "\n",
      "# All requested packages already installed.\n",
      "\n"
     ]
    }
   ],
   "source": [
    "#!pip install sympy -y\n",
    "!conda install sympy -y"
   ]
  },
  {
   "cell_type": "markdown",
   "id": "e62798ab-6b3a-4ea4-a863-24dd6b1496cf",
   "metadata": {},
   "source": [
    "#### 0.2. Importálás\n",
    "\n",
    "Kérlek, soha, senki ne használjon egyetlen Python csomagot sem úgy, hogy\n",
    "\n",
    "```python\n",
    "from <package_name> import *\n",
    "```\n",
    "\n",
    "pl.\n",
    "\n",
    "```python\n",
    "from sympy import *\n",
    "```\n",
    "\n",
    "Bármikor előfordulhat, hogy két különböző, beimportált csomagban azonos nevű függvények/modulok szerepelnek. Az első `import` hívás ilyenkor behívja az első csomag függvényeit. Amikor az ember egyetlen packaget (pl. `numpy`) használ, akkor a fenti megoldás rendben van, de ez a helyzet nagyon ritka. Jobb hozzászokni a megfelelő importáláshoz minél előbb, hogy már mindig reflexből jöjjön. Pl. ebben a Notebookba összesen 4 csomagot használunk, amiből kettőt csak 1-1 cella és függvény erejéig. A másik kettő (`numpy` és `sympy`) esetén azonban az ilyen fajta importálás már egy halom ütközéshez vezetne.\n",
    "\n",
    "Pontosan ugyanez a helyzet a `C++` esetén, aminek kapcsán számtalanszor hansúlyozzák, hogy a\n",
    "\n",
    "```C++\n",
    "using namespace std;\n",
    "```\n",
    "\n",
    "használata egy minden esetben kerülendő gyakorlat. Az ok pontosan ugyanaz, mint a Python esetén. A `C++`-os standard library esetén még súlyosabb is a helyzet egyébként a rengeteg `list`, `sort` és egyéb hasonló, nagyon sok más helyen is előforduló azonosítónév miatt.\n",
    "\n",
    "Visszatérve a `sympy`-ra, ennek az esetén elég, ha csak a következőek valamelyikét használjuk:"
   ]
  },
  {
   "cell_type": "code",
   "execution_count": 2,
   "id": "27e1916b-d373-4457-85da-7b6464af4f8b",
   "metadata": {},
   "outputs": [],
   "source": [
    "import sympy\n",
    "#import sympy as sp"
   ]
  },
  {
   "cell_type": "markdown",
   "id": "84b3da2d-9144-4d4c-ac39-1581a733ab7c",
   "metadata": {},
   "source": [
    "### 1. Különbség a szimbolikus és numerikus számítások között\n",
    "\n",
    "- NumPy -- \"Numerikus\"\n",
    "- SymPy -- \"Szimbolikus\""
   ]
  },
  {
   "cell_type": "markdown",
   "id": "1c1093b2-f71e-4aa2-bcea-b62aa6d93a75",
   "metadata": {},
   "source": [
    "#### Numerikus számítás (NumPy-val)\n",
    "\n",
    "Ebben az esetben lebegőpontos, közelítő értékeket kapunk a megadott matematikai kifejezés értékére."
   ]
  },
  {
   "cell_type": "code",
   "execution_count": 3,
   "id": "b9695e02-6502-4722-b58c-1d43a76d651c",
   "metadata": {},
   "outputs": [],
   "source": [
    "import numpy as np"
   ]
  },
  {
   "cell_type": "code",
   "execution_count": 4,
   "id": "1fc6f8ee-854b-4963-9d77-359f60c99776",
   "metadata": {},
   "outputs": [
    {
     "name": "stdout",
     "output_type": "stream",
     "text": [
      "sqrt(2) = 1.4142135623730951\n",
      "sqrt(8) = 2.8284271247461903\n"
     ]
    }
   ],
   "source": [
    "print('sqrt(2) =', np.sqrt(2))\n",
    "print('sqrt(8) =', np.sqrt(8))"
   ]
  },
  {
   "cell_type": "markdown",
   "id": "88f1e7e9-928b-4f06-86da-e43cd77a51c7",
   "metadata": {},
   "source": [
    "#### Szimbolikus számítás (SymPy-val)\n",
    "\n",
    "Itt már egzakt értékeket kapunk a matematikai kifejetés értékére, nem pedig lebegőpontos közelítéseket."
   ]
  },
  {
   "cell_type": "code",
   "execution_count": 5,
   "id": "b9e3b69a-3738-42c7-80ec-f211acab7ede",
   "metadata": {},
   "outputs": [
    {
     "name": "stdout",
     "output_type": "stream",
     "text": [
      "sqrt(2) = sqrt(2)\n",
      "sqrt(8) = 2*sqrt(2)\n"
     ]
    }
   ],
   "source": [
    "print('sqrt(2) =', sympy.sqrt(2))\n",
    "print('sqrt(8) =', sympy.sqrt(8))"
   ]
  },
  {
   "cell_type": "markdown",
   "id": "0bb9dd0a-d639-4f19-adf8-77dc6d51eb96",
   "metadata": {},
   "source": [
    "### 2. `Sympy` bevezető"
   ]
  },
  {
   "cell_type": "markdown",
   "id": "53373e46-a043-4f79-a3ed-bcba45bc8607",
   "metadata": {},
   "source": [
    "#### 2.1. Változók definiálása"
   ]
  },
  {
   "cell_type": "markdown",
   "id": "001828bf-5950-4266-b151-fd4c674bbdc2",
   "metadata": {},
   "source": [
    "A fenti egy nagyon egyszerű példa volt, ahol valamilyen egyértelmű formában megadtunk egy jól definiált értékkel rendelkező kifejezést (pl. `sqrt(8)`), melyet egyszerűbb formába írtunk át egy CAS (itt a `sympy`) segítségével. Azonban ennél sokkal komolyabb dologra is képesek vagyunk, méghozzá **szimbolikus változók** definiálására. Ezek segítségével algebrai változókat tartalmazó kifejezéseket is meg tudunk oldani. \n",
    "\n",
    "A szimbolikus számítások újdonsága és egyben a fent már tisztázott különbségük a numerikus számításoktól, hogy az egyes változóknak nem lebegőpontos értékeik vannak, hanem ezek úgynevezett érték nélküli *\"szimbólumok\"*. Ezeket a `sympy`-ban nem-konvencionális módon a számítások ELŐTT kell definiálni. (Hasonlóan, mint kb. bármilyen programozási nyelven, ahol a változókat azelőtt kell definiálni, mielőtt számításokat akarunk velük végezni.) Habár ez tűnik a logikus és \"normális\" működésnek, a legtöbb CAS (pl. a Mathematica) esetén erre külön nincs szükség. Ezekben a változók a kifejezések számítása közben automatikusan definiálódnak. A `sympy` nem ilyen.\n",
    "\n",
    "`Sympy` esetén a változók előre definiálása azért szükséges, mert ez egy Python csomag/könyvtár. A \"csomag/könyvtár\" mágikus kifejezések annyit takarnak csak, hogy ez egy előre megírt függvények tematikus gyűjteménye. Ezek a függvények a `sympy` esetén tisztán Python nyelven lettek megírva, így a Python, mint programozási nyelv szabályai szerint tudnak csak működni. Pythonban nincs deklaráció, az egyes változókat először definiálni kell, hogy azokat létrehozzuk. A `sympy` pedig így ezt a működési sémát követi.\n",
    "\n",
    "Szimbolikus változókat az alábbi két féle módon definiálhatunk:"
   ]
  },
  {
   "cell_type": "code",
   "execution_count": 6,
   "id": "b8287279-c036-496f-8683-75c92f90cba5",
   "metadata": {},
   "outputs": [],
   "source": [
    "# 1. fajta definíció\n",
    "# A `sympy.Symbol()` használatával\n",
    "x = sympy.Symbol('x')\n",
    "y = sympy.Symbol('y')\n",
    "sqrt_alpha = sympy.Symbol('\\\\sqrt{(\\\\alpha)}')\n",
    "\n",
    "# 2. fajta definíció\n",
    "# A `sympy.symbols()` használatával\n",
    "x, y, sqrt_alpha = sympy.symbols('x y \\\\sqrt{(\\\\alpha)}')"
   ]
  },
  {
   "cell_type": "markdown",
   "id": "3922cf77-dcde-4379-b862-3ce442c673b9",
   "metadata": {},
   "source": [
    "Az egyenletek bal oldalán egy Python változó található, a jobb oldalon pedig az első 3 sorban egy `sympy.Symbol()`, míg az utolsóban egy `sympy.symbols()` nevű `class`. Ezen két `class` célja pontosan ugyanaz. Az egyetlen különbség, hogy míg a `Symbol` segítségével egyszerre csak egy változó definiálható, addig a `symbols`-val egyszerre bármennyi. Vannak emberek, akik több sorban szeretik a különböző változókat definiálni és vannak olyanok, akik egy sorban le akarják ezt tudni. Igény szerint mindenki kiválaszthatja maga számára a legkényelmesebbet.\n",
    "\n",
    "Azonban `symbols` használata esetén is, a végső változóknak simán egy `Symbol class` lesz a típusa, pontosan ahogy az a `Symbol` direktben történő használatánál történik."
   ]
  },
  {
   "cell_type": "code",
   "execution_count": 7,
   "id": "7484010e-e9bf-4779-9819-fdb9663a085c",
   "metadata": {},
   "outputs": [
    {
     "name": "stdout",
     "output_type": "stream",
     "text": [
      "Az `x` változó típusa:\n",
      "\t\t <class 'sympy.core.symbol.Symbol'>\n",
      "-------------------------------------------------------\n",
      "Az `y` változó típusa:\n",
      "\t\t <class 'sympy.core.symbol.Symbol'>\n",
      "-------------------------------------------------------\n",
      "Az `sqrt_alpha` változó típusa:\n",
      "\t\t <class 'sympy.core.symbol.Symbol'>\n",
      "-------------------------------------------------------\n"
     ]
    }
   ],
   "source": [
    "print('Az `x` változó típusa:\\n\\t\\t', type(x))\n",
    "print('-'*55)\n",
    "print('Az `y` változó típusa:\\n\\t\\t', type(y))\n",
    "print('-'*55)\n",
    "print('Az `sqrt_alpha` változó típusa:\\n\\t\\t', type(sqrt_alpha))\n",
    "print('-'*55)"
   ]
  },
  {
   "cell_type": "markdown",
   "id": "216f664d-0458-4fa7-8bc1-353db6539ba9",
   "metadata": {},
   "source": [
    "A szimbolikus változóknak valamilyen \"formát\"/értéket adunk egy string megadásával a `Symbol`, vagy `symbols` classok argumentumába írva (lásd a változók definiálását tartalmazó cella). Ez a string tartalmazhat akár megfelelő formátumú $\\LaTeX$ kódot is."
   ]
  },
  {
   "cell_type": "markdown",
   "id": "e8e63afb-5ece-45c0-9695-56a1d6073e2d",
   "metadata": {},
   "source": [
    "#### 2.2. Kifejezések renderelése\n",
    "\n",
    "A Jupyter Notebook, vagy a Jupyter Lab a szimbolikus karakterek, kifejezések, vagy számítási eredmények rendereléséhez a `MathJaX`-ot használja.\n",
    "\n",
    "Ez az említett \"megfelelő formátum\" ebben az esetben nem triviális dolog. A konvencionális $\\LaTeX$ kóddal ellentétben, ahol minden speciális karakter egyetlen `\\`-vel jelölendő, amit közvetlenül a karaktert jelölő azonosítónév követ, itt nem ez a helyzet. Ahogy a fenti cella is mutatja, egyes helyeken dupla `\\\\` karakter szükséges az azonosítók jelöléséhez. Fontos megjegyezni, hogy ez nem a `sympy` sajátossága, hanem a Jupyter környezet `MathJaX` backendjéé, ami pl. a `sympy` változóit, de más $\\LaTeX$-es kifejezéseket is renderel. (Pl. `matplotlib`-es ábrákra írt $\\LaTeX$ kód esetén is helyenként `\\`, máshol `\\\\` szükséges a kívánt eredmény eléréséhez.)"
   ]
  },
  {
   "cell_type": "code",
   "execution_count": 8,
   "id": "27231449-7697-4665-8ac9-a37425d3c640",
   "metadata": {},
   "outputs": [
    {
     "data": {
      "text/latex": [
       "$\\displaystyle x$"
      ],
      "text/plain": [
       "x"
      ]
     },
     "metadata": {},
     "output_type": "display_data"
    },
    {
     "data": {
      "text/latex": [
       "$\\displaystyle y$"
      ],
      "text/plain": [
       "y"
      ]
     },
     "metadata": {},
     "output_type": "display_data"
    },
    {
     "data": {
      "text/latex": [
       "$\\displaystyle \\sqrt{(\\alpha)}$"
      ],
      "text/plain": [
       "\\sqrt{(\\alpha)}"
      ]
     },
     "metadata": {},
     "output_type": "display_data"
    }
   ],
   "source": [
    "display(x, y, sqrt_alpha)"
   ]
  },
  {
   "cell_type": "code",
   "execution_count": 9,
   "id": "016f4f18-a55f-4a81-b4ae-06ada7ee7cb9",
   "metadata": {},
   "outputs": [
    {
     "data": {
      "text/latex": [
       "$\\displaystyle \\int \\sqrt{\\frac{1}{x}}\\, dx$"
      ],
      "text/plain": [
       "Integral(sqrt(1/x), x)"
      ]
     },
     "metadata": {},
     "output_type": "display_data"
    }
   ],
   "source": [
    "expr = sympy.Integral(sympy.sqrt(1/x), x)\n",
    "display(expr)"
   ]
  },
  {
   "cell_type": "markdown",
   "id": "cb7a6b34-b3c0-4f48-b0f9-c500db1e28a9",
   "metadata": {},
   "source": [
    "Terminálban ez konkrétan `Unicode`, vagy régebbi *shellek* esetén `ASCII` karakterek felhasználásával történik:\n",
    "\n",
    "<img src='img/terminal-render.png'></img>"
   ]
  },
  {
   "cell_type": "markdown",
   "id": "b23e5f4f-5c38-4daa-8ad6-88d3db40c191",
   "metadata": {},
   "source": [
    "Ezen kívül $\\LaTeX$, MathML és Dot formátumban is lehetséges printelni, ha valaki nagyon akar.\n",
    "\n",
    "A Dot formátum hasznos lehet, ha valaki egy bonyolult kifejezést akar érthető formában vizualizálni. Ehhez a `graphviz` csomag szükséges, amit telepíthetünk az alábbi módon:"
   ]
  },
  {
   "cell_type": "code",
   "execution_count": 10,
   "id": "51ca8247-6c1d-4cfb-baa8-69126daafc8e",
   "metadata": {},
   "outputs": [
    {
     "name": "stdout",
     "output_type": "stream",
     "text": [
      "Collecting package metadata (current_repodata.json): done\n",
      "Solving environment: done\n",
      "\n",
      "# All requested packages already installed.\n",
      "\n"
     ]
    }
   ],
   "source": [
    "!conda install python-graphviz -y"
   ]
  },
  {
   "cell_type": "code",
   "execution_count": 11,
   "id": "baaa148e-c4c9-466f-98c3-747cb08122c3",
   "metadata": {},
   "outputs": [],
   "source": [
    "import graphviz"
   ]
  },
  {
   "cell_type": "markdown",
   "id": "0707454e-7d21-46e4-a776-83dedaa482a3",
   "metadata": {},
   "source": [
    "Végül egy bonyolult kifejezést dot formátumban konvertálhatunk az `sympy.dotprint` függvénnyel, mely kódot a `graphviz` csomag azonos nevű `graphviz.dotprint` függvényével plottolhatunk.\n",
    "\n",
    "<span style=\"color:red\">!!!</span>\n",
    "(Ugye-ugye, hogy nem jó ötlet `from <package> import *`-ot használni, mert itt pont nem tudnánk ezeket a függvényeket meghívni...)\n",
    "<span style=\"color:red\">!!!</span>"
   ]
  },
  {
   "cell_type": "code",
   "execution_count": 12,
   "id": "224e12f1-43fe-4740-b11d-76bbba78ede6",
   "metadata": {},
   "outputs": [],
   "source": [
    "# Egy \"bonyolultabb\" kifejezés definiálása\n",
    "expr = sympy.sin(x*y)/2 - x**2 + 1/y"
   ]
  },
  {
   "cell_type": "code",
   "execution_count": 13,
   "id": "7538e8c8-85b9-4b7b-94a1-314822c69eda",
   "metadata": {},
   "outputs": [
    {
     "name": "stdout",
     "output_type": "stream",
     "text": [
      "digraph{\n",
      "\n",
      "# Graph style\n",
      "\"ordering\"=\"out\"\n",
      "\"rankdir\"=\"TD\"\n",
      "\n",
      "#########\n",
      "# Nodes #\n",
      "#########\n",
      "\n",
      "\"Add(Pow(Symbol('y'), Integer(-1)), Mul(Rational(1, 2), sin(Mul(Symbol('x'), Symbol('y')))), Mul(Integer(-1), Pow(Symbol('x'), Integer(2))))_()\" [\"color\"=\"black\", \"label\"=\"Add\", \"shape\"=\"ellipse\"];\n",
      "\"Pow(Symbol('y'), Integer(-1))_(0,)\" [\"color\"=\"black\", \"label\"=\"Pow\", \"shape\"=\"ellipse\"];\n",
      "\"Symbol('y')_(0, 0)\" [\"color\"=\"black\", \"label\"=\"y\", \"shape\"=\"ellipse\"];\n",
      "\"Integer(-1)_(0, 1)\" [\"color\"=\"black\", \"label\"=\"-1\", \"shape\"=\"ellipse\"];\n",
      "\"Mul(Rational(1, 2), sin(Mul(Symbol('x'), Symbol('y'))))_(1,)\" [\"color\"=\"black\", \"label\"=\"Mul\", \"shape\"=\"ellipse\"];\n",
      "\"Rational(1, 2)_(1, 0)\" [\"color\"=\"black\", \"label\"=\"1/2\", \"shape\"=\"ellipse\"];\n",
      "\"sin(Mul(Symbol('x'), Symbol('y')))_(1, 1)\" [\"color\"=\"black\", \"label\"=\"sin\", \"shape\"=\"ellipse\"];\n",
      "\"Mul(Symbol('x'), Symbol('y'))_(1, 1, 0)\" [\"color\"=\"black\", \"label\"=\"Mul\", \"shape\"=\"ellipse\"];\n",
      "\"Symbol('x')_(1, 1, 0, 0)\" [\"color\"=\"black\", \"label\"=\"x\", \"shape\"=\"ellipse\"];\n",
      "\"Symbol('y')_(1, 1, 0, 1)\" [\"color\"=\"black\", \"label\"=\"y\", \"shape\"=\"ellipse\"];\n",
      "\"Mul(Integer(-1), Pow(Symbol('x'), Integer(2)))_(2,)\" [\"color\"=\"black\", \"label\"=\"Mul\", \"shape\"=\"ellipse\"];\n",
      "\"Integer(-1)_(2, 0)\" [\"color\"=\"black\", \"label\"=\"-1\", \"shape\"=\"ellipse\"];\n",
      "\"Pow(Symbol('x'), Integer(2))_(2, 1)\" [\"color\"=\"black\", \"label\"=\"Pow\", \"shape\"=\"ellipse\"];\n",
      "\"Symbol('x')_(2, 1, 0)\" [\"color\"=\"black\", \"label\"=\"x\", \"shape\"=\"ellipse\"];\n",
      "\"Integer(2)_(2, 1, 1)\" [\"color\"=\"black\", \"label\"=\"2\", \"shape\"=\"ellipse\"];\n",
      "\n",
      "#########\n",
      "# Edges #\n",
      "#########\n",
      "\n",
      "\"Add(Pow(Symbol('y'), Integer(-1)), Mul(Rational(1, 2), sin(Mul(Symbol('x'), Symbol('y')))), Mul(Integer(-1), Pow(Symbol('x'), Integer(2))))_()\" -> \"Pow(Symbol('y'), Integer(-1))_(0,)\";\n",
      "\"Add(Pow(Symbol('y'), Integer(-1)), Mul(Rational(1, 2), sin(Mul(Symbol('x'), Symbol('y')))), Mul(Integer(-1), Pow(Symbol('x'), Integer(2))))_()\" -> \"Mul(Rational(1, 2), sin(Mul(Symbol('x'), Symbol('y'))))_(1,)\";\n",
      "\"Add(Pow(Symbol('y'), Integer(-1)), Mul(Rational(1, 2), sin(Mul(Symbol('x'), Symbol('y')))), Mul(Integer(-1), Pow(Symbol('x'), Integer(2))))_()\" -> \"Mul(Integer(-1), Pow(Symbol('x'), Integer(2)))_(2,)\";\n",
      "\"Pow(Symbol('y'), Integer(-1))_(0,)\" -> \"Symbol('y')_(0, 0)\";\n",
      "\"Pow(Symbol('y'), Integer(-1))_(0,)\" -> \"Integer(-1)_(0, 1)\";\n",
      "\"Mul(Rational(1, 2), sin(Mul(Symbol('x'), Symbol('y'))))_(1,)\" -> \"Rational(1, 2)_(1, 0)\";\n",
      "\"Mul(Rational(1, 2), sin(Mul(Symbol('x'), Symbol('y'))))_(1,)\" -> \"sin(Mul(Symbol('x'), Symbol('y')))_(1, 1)\";\n",
      "\"sin(Mul(Symbol('x'), Symbol('y')))_(1, 1)\" -> \"Mul(Symbol('x'), Symbol('y'))_(1, 1, 0)\";\n",
      "\"Mul(Symbol('x'), Symbol('y'))_(1, 1, 0)\" -> \"Symbol('x')_(1, 1, 0, 0)\";\n",
      "\"Mul(Symbol('x'), Symbol('y'))_(1, 1, 0)\" -> \"Symbol('y')_(1, 1, 0, 1)\";\n",
      "\"Mul(Integer(-1), Pow(Symbol('x'), Integer(2)))_(2,)\" -> \"Integer(-1)_(2, 0)\";\n",
      "\"Mul(Integer(-1), Pow(Symbol('x'), Integer(2)))_(2,)\" -> \"Pow(Symbol('x'), Integer(2))_(2, 1)\";\n",
      "\"Pow(Symbol('x'), Integer(2))_(2, 1)\" -> \"Symbol('x')_(2, 1, 0)\";\n",
      "\"Pow(Symbol('x'), Integer(2))_(2, 1)\" -> \"Integer(2)_(2, 1, 1)\";\n",
      "}\n"
     ]
    }
   ],
   "source": [
    "# Ennek Dot formátumú reprezentálását megkaphatjuk az `sympy.dotprint` függvénnyel\n",
    "print(sympy.dotprint(expr))"
   ]
  },
  {
   "cell_type": "code",
   "execution_count": 14,
   "id": "4dcb6ec0-784b-4a4b-abba-be79adf3609e",
   "metadata": {},
   "outputs": [
    {
     "data": {
      "image/svg+xml": [
       "<?xml version=\"1.0\" encoding=\"UTF-8\" standalone=\"no\"?>\n",
       "<!DOCTYPE svg PUBLIC \"-//W3C//DTD SVG 1.1//EN\"\n",
       " \"http://www.w3.org/Graphics/SVG/1.1/DTD/svg11.dtd\">\n",
       "<!-- Generated by graphviz version 2.49.1 (20211004.0028)\n",
       " -->\n",
       "<!-- Pages: 1 -->\n",
       "<svg width=\"461pt\" height=\"332pt\"\n",
       " viewBox=\"0.00 0.00 461.00 332.00\" xmlns=\"http://www.w3.org/2000/svg\" xmlns:xlink=\"http://www.w3.org/1999/xlink\">\n",
       "<g id=\"graph0\" class=\"graph\" transform=\"scale(1 1) rotate(0) translate(4 328)\">\n",
       "<polygon fill=\"white\" stroke=\"transparent\" points=\"-4,4 -4,-328 457,-328 457,4 -4,4\"/>\n",
       "<!-- Add(Pow(Symbol(&#39;y&#39;), Integer(&#45;1)), Mul(Rational(1, 2), sin(Mul(Symbol(&#39;x&#39;), Symbol(&#39;y&#39;)))), Mul(Integer(&#45;1), Pow(Symbol(&#39;x&#39;), Integer(2))))_() -->\n",
       "<g id=\"node1\" class=\"node\">\n",
       "<title>Add(Pow(Symbol(&#39;y&#39;), Integer(&#45;1)), Mul(Rational(1, 2), sin(Mul(Symbol(&#39;x&#39;), Symbol(&#39;y&#39;)))), Mul(Integer(&#45;1), Pow(Symbol(&#39;x&#39;), Integer(2))))_()</title>\n",
       "<ellipse fill=\"none\" stroke=\"black\" cx=\"208\" cy=\"-306\" rx=\"28.7\" ry=\"18\"/>\n",
       "<text text-anchor=\"middle\" x=\"208\" y=\"-302.3\" font-family=\"Times,serif\" font-size=\"14.00\">Add</text>\n",
       "</g>\n",
       "<!-- Pow(Symbol(&#39;y&#39;), Integer(&#45;1))_(0,) -->\n",
       "<g id=\"node2\" class=\"node\">\n",
       "<title>Pow(Symbol(&#39;y&#39;), Integer(&#45;1))_(0,)</title>\n",
       "<ellipse fill=\"none\" stroke=\"black\" cx=\"99\" cy=\"-234\" rx=\"29.8\" ry=\"18\"/>\n",
       "<text text-anchor=\"middle\" x=\"99\" y=\"-230.3\" font-family=\"Times,serif\" font-size=\"14.00\">Pow</text>\n",
       "</g>\n",
       "<!-- Add(Pow(Symbol(&#39;y&#39;), Integer(&#45;1)), Mul(Rational(1, 2), sin(Mul(Symbol(&#39;x&#39;), Symbol(&#39;y&#39;)))), Mul(Integer(&#45;1), Pow(Symbol(&#39;x&#39;), Integer(2))))_()&#45;&gt;Pow(Symbol(&#39;y&#39;), Integer(&#45;1))_(0,) -->\n",
       "<g id=\"edge1\" class=\"edge\">\n",
       "<title>Add(Pow(Symbol(&#39;y&#39;), Integer(&#45;1)), Mul(Rational(1, 2), sin(Mul(Symbol(&#39;x&#39;), Symbol(&#39;y&#39;)))), Mul(Integer(&#45;1), Pow(Symbol(&#39;x&#39;), Integer(2))))_()&#45;&gt;Pow(Symbol(&#39;y&#39;), Integer(&#45;1))_(0,)</title>\n",
       "<path fill=\"none\" stroke=\"black\" d=\"M188.76,-292.65C171.7,-281.69 146.55,-265.54 127.21,-253.11\"/>\n",
       "<polygon fill=\"black\" stroke=\"black\" points=\"129.09,-250.16 118.78,-247.7 125.3,-256.05 129.09,-250.16\"/>\n",
       "</g>\n",
       "<!-- Mul(Rational(1, 2), sin(Mul(Symbol(&#39;x&#39;), Symbol(&#39;y&#39;))))_(1,) -->\n",
       "<g id=\"node5\" class=\"node\">\n",
       "<title>Mul(Rational(1, 2), sin(Mul(Symbol(&#39;x&#39;), Symbol(&#39;y&#39;))))_(1,)</title>\n",
       "<ellipse fill=\"none\" stroke=\"black\" cx=\"208\" cy=\"-234\" rx=\"28.7\" ry=\"18\"/>\n",
       "<text text-anchor=\"middle\" x=\"208\" y=\"-230.3\" font-family=\"Times,serif\" font-size=\"14.00\">Mul</text>\n",
       "</g>\n",
       "<!-- Add(Pow(Symbol(&#39;y&#39;), Integer(&#45;1)), Mul(Rational(1, 2), sin(Mul(Symbol(&#39;x&#39;), Symbol(&#39;y&#39;)))), Mul(Integer(&#45;1), Pow(Symbol(&#39;x&#39;), Integer(2))))_()&#45;&gt;Mul(Rational(1, 2), sin(Mul(Symbol(&#39;x&#39;), Symbol(&#39;y&#39;))))_(1,) -->\n",
       "<g id=\"edge2\" class=\"edge\">\n",
       "<title>Add(Pow(Symbol(&#39;y&#39;), Integer(&#45;1)), Mul(Rational(1, 2), sin(Mul(Symbol(&#39;x&#39;), Symbol(&#39;y&#39;)))), Mul(Integer(&#45;1), Pow(Symbol(&#39;x&#39;), Integer(2))))_()&#45;&gt;Mul(Rational(1, 2), sin(Mul(Symbol(&#39;x&#39;), Symbol(&#39;y&#39;))))_(1,)</title>\n",
       "<path fill=\"none\" stroke=\"black\" d=\"M208,-287.7C208,-279.98 208,-270.71 208,-262.11\"/>\n",
       "<polygon fill=\"black\" stroke=\"black\" points=\"211.5,-262.1 208,-252.1 204.5,-262.1 211.5,-262.1\"/>\n",
       "</g>\n",
       "<!-- Mul(Integer(&#45;1), Pow(Symbol(&#39;x&#39;), Integer(2)))_(2,) -->\n",
       "<g id=\"node11\" class=\"node\">\n",
       "<title>Mul(Integer(&#45;1), Pow(Symbol(&#39;x&#39;), Integer(2)))_(2,)</title>\n",
       "<ellipse fill=\"none\" stroke=\"black\" cx=\"315\" cy=\"-234\" rx=\"28.7\" ry=\"18\"/>\n",
       "<text text-anchor=\"middle\" x=\"315\" y=\"-230.3\" font-family=\"Times,serif\" font-size=\"14.00\">Mul</text>\n",
       "</g>\n",
       "<!-- Add(Pow(Symbol(&#39;y&#39;), Integer(&#45;1)), Mul(Rational(1, 2), sin(Mul(Symbol(&#39;x&#39;), Symbol(&#39;y&#39;)))), Mul(Integer(&#45;1), Pow(Symbol(&#39;x&#39;), Integer(2))))_()&#45;&gt;Mul(Integer(&#45;1), Pow(Symbol(&#39;x&#39;), Integer(2)))_(2,) -->\n",
       "<g id=\"edge3\" class=\"edge\">\n",
       "<title>Add(Pow(Symbol(&#39;y&#39;), Integer(&#45;1)), Mul(Rational(1, 2), sin(Mul(Symbol(&#39;x&#39;), Symbol(&#39;y&#39;)))), Mul(Integer(&#45;1), Pow(Symbol(&#39;x&#39;), Integer(2))))_()&#45;&gt;Mul(Integer(&#45;1), Pow(Symbol(&#39;x&#39;), Integer(2)))_(2,)</title>\n",
       "<path fill=\"none\" stroke=\"black\" d=\"M227.13,-292.49C243.84,-281.55 268.31,-265.55 287.18,-253.2\"/>\n",
       "<polygon fill=\"black\" stroke=\"black\" points=\"289.22,-256.05 295.68,-247.64 285.39,-250.19 289.22,-256.05\"/>\n",
       "</g>\n",
       "<!-- Symbol(&#39;y&#39;)_(0, 0) -->\n",
       "<g id=\"node3\" class=\"node\">\n",
       "<title>Symbol(&#39;y&#39;)_(0, 0)</title>\n",
       "<ellipse fill=\"none\" stroke=\"black\" cx=\"27\" cy=\"-162\" rx=\"27\" ry=\"18\"/>\n",
       "<text text-anchor=\"middle\" x=\"27\" y=\"-158.3\" font-family=\"Times,serif\" font-size=\"14.00\">y</text>\n",
       "</g>\n",
       "<!-- Pow(Symbol(&#39;y&#39;), Integer(&#45;1))_(0,)&#45;&gt;Symbol(&#39;y&#39;)_(0, 0) -->\n",
       "<g id=\"edge4\" class=\"edge\">\n",
       "<title>Pow(Symbol(&#39;y&#39;), Integer(&#45;1))_(0,)&#45;&gt;Symbol(&#39;y&#39;)_(0, 0)</title>\n",
       "<path fill=\"none\" stroke=\"black\" d=\"M83.73,-218.15C73.67,-208.37 60.33,-195.4 49.11,-184.5\"/>\n",
       "<polygon fill=\"black\" stroke=\"black\" points=\"51.36,-181.81 41.75,-177.35 46.49,-186.83 51.36,-181.81\"/>\n",
       "</g>\n",
       "<!-- Integer(&#45;1)_(0, 1) -->\n",
       "<g id=\"node4\" class=\"node\">\n",
       "<title>Integer(&#45;1)_(0, 1)</title>\n",
       "<ellipse fill=\"none\" stroke=\"black\" cx=\"99\" cy=\"-162\" rx=\"27\" ry=\"18\"/>\n",
       "<text text-anchor=\"middle\" x=\"99\" y=\"-158.3\" font-family=\"Times,serif\" font-size=\"14.00\">&#45;1</text>\n",
       "</g>\n",
       "<!-- Pow(Symbol(&#39;y&#39;), Integer(&#45;1))_(0,)&#45;&gt;Integer(&#45;1)_(0, 1) -->\n",
       "<g id=\"edge5\" class=\"edge\">\n",
       "<title>Pow(Symbol(&#39;y&#39;), Integer(&#45;1))_(0,)&#45;&gt;Integer(&#45;1)_(0, 1)</title>\n",
       "<path fill=\"none\" stroke=\"black\" d=\"M99,-215.7C99,-207.98 99,-198.71 99,-190.11\"/>\n",
       "<polygon fill=\"black\" stroke=\"black\" points=\"102.5,-190.1 99,-180.1 95.5,-190.1 102.5,-190.1\"/>\n",
       "</g>\n",
       "<!-- Rational(1, 2)_(1, 0) -->\n",
       "<g id=\"node6\" class=\"node\">\n",
       "<title>Rational(1, 2)_(1, 0)</title>\n",
       "<ellipse fill=\"none\" stroke=\"black\" cx=\"171\" cy=\"-162\" rx=\"27\" ry=\"18\"/>\n",
       "<text text-anchor=\"middle\" x=\"171\" y=\"-158.3\" font-family=\"Times,serif\" font-size=\"14.00\">1/2</text>\n",
       "</g>\n",
       "<!-- Mul(Rational(1, 2), sin(Mul(Symbol(&#39;x&#39;), Symbol(&#39;y&#39;))))_(1,)&#45;&gt;Rational(1, 2)_(1, 0) -->\n",
       "<g id=\"edge6\" class=\"edge\">\n",
       "<title>Mul(Rational(1, 2), sin(Mul(Symbol(&#39;x&#39;), Symbol(&#39;y&#39;))))_(1,)&#45;&gt;Rational(1, 2)_(1, 0)</title>\n",
       "<path fill=\"none\" stroke=\"black\" d=\"M199.42,-216.76C194.94,-208.28 189.35,-197.71 184.32,-188.2\"/>\n",
       "<polygon fill=\"black\" stroke=\"black\" points=\"187.3,-186.35 179.54,-179.15 181.11,-189.62 187.3,-186.35\"/>\n",
       "</g>\n",
       "<!-- sin(Mul(Symbol(&#39;x&#39;), Symbol(&#39;y&#39;)))_(1, 1) -->\n",
       "<g id=\"node7\" class=\"node\">\n",
       "<title>sin(Mul(Symbol(&#39;x&#39;), Symbol(&#39;y&#39;)))_(1, 1)</title>\n",
       "<ellipse fill=\"none\" stroke=\"black\" cx=\"243\" cy=\"-162\" rx=\"27\" ry=\"18\"/>\n",
       "<text text-anchor=\"middle\" x=\"243\" y=\"-158.3\" font-family=\"Times,serif\" font-size=\"14.00\">sin</text>\n",
       "</g>\n",
       "<!-- Mul(Rational(1, 2), sin(Mul(Symbol(&#39;x&#39;), Symbol(&#39;y&#39;))))_(1,)&#45;&gt;sin(Mul(Symbol(&#39;x&#39;), Symbol(&#39;y&#39;)))_(1, 1) -->\n",
       "<g id=\"edge7\" class=\"edge\">\n",
       "<title>Mul(Rational(1, 2), sin(Mul(Symbol(&#39;x&#39;), Symbol(&#39;y&#39;))))_(1,)&#45;&gt;sin(Mul(Symbol(&#39;x&#39;), Symbol(&#39;y&#39;)))_(1, 1)</title>\n",
       "<path fill=\"none\" stroke=\"black\" d=\"M216.29,-216.41C220.44,-208.13 225.54,-197.92 230.17,-188.66\"/>\n",
       "<polygon fill=\"black\" stroke=\"black\" points=\"233.42,-189.98 234.77,-179.47 227.16,-186.85 233.42,-189.98\"/>\n",
       "</g>\n",
       "<!-- Mul(Symbol(&#39;x&#39;), Symbol(&#39;y&#39;))_(1, 1, 0) -->\n",
       "<g id=\"node8\" class=\"node\">\n",
       "<title>Mul(Symbol(&#39;x&#39;), Symbol(&#39;y&#39;))_(1, 1, 0)</title>\n",
       "<ellipse fill=\"none\" stroke=\"black\" cx=\"243\" cy=\"-90\" rx=\"28.7\" ry=\"18\"/>\n",
       "<text text-anchor=\"middle\" x=\"243\" y=\"-86.3\" font-family=\"Times,serif\" font-size=\"14.00\">Mul</text>\n",
       "</g>\n",
       "<!-- sin(Mul(Symbol(&#39;x&#39;), Symbol(&#39;y&#39;)))_(1, 1)&#45;&gt;Mul(Symbol(&#39;x&#39;), Symbol(&#39;y&#39;))_(1, 1, 0) -->\n",
       "<g id=\"edge8\" class=\"edge\">\n",
       "<title>sin(Mul(Symbol(&#39;x&#39;), Symbol(&#39;y&#39;)))_(1, 1)&#45;&gt;Mul(Symbol(&#39;x&#39;), Symbol(&#39;y&#39;))_(1, 1, 0)</title>\n",
       "<path fill=\"none\" stroke=\"black\" d=\"M243,-143.7C243,-135.98 243,-126.71 243,-118.11\"/>\n",
       "<polygon fill=\"black\" stroke=\"black\" points=\"246.5,-118.1 243,-108.1 239.5,-118.1 246.5,-118.1\"/>\n",
       "</g>\n",
       "<!-- Symbol(&#39;x&#39;)_(1, 1, 0, 0) -->\n",
       "<g id=\"node9\" class=\"node\">\n",
       "<title>Symbol(&#39;x&#39;)_(1, 1, 0, 0)</title>\n",
       "<ellipse fill=\"none\" stroke=\"black\" cx=\"207\" cy=\"-18\" rx=\"27\" ry=\"18\"/>\n",
       "<text text-anchor=\"middle\" x=\"207\" y=\"-14.3\" font-family=\"Times,serif\" font-size=\"14.00\">x</text>\n",
       "</g>\n",
       "<!-- Mul(Symbol(&#39;x&#39;), Symbol(&#39;y&#39;))_(1, 1, 0)&#45;&gt;Symbol(&#39;x&#39;)_(1, 1, 0, 0) -->\n",
       "<g id=\"edge9\" class=\"edge\">\n",
       "<title>Mul(Symbol(&#39;x&#39;), Symbol(&#39;y&#39;))_(1, 1, 0)&#45;&gt;Symbol(&#39;x&#39;)_(1, 1, 0, 0)</title>\n",
       "<path fill=\"none\" stroke=\"black\" d=\"M234.65,-72.76C230.29,-64.28 224.85,-53.71 219.96,-44.2\"/>\n",
       "<polygon fill=\"black\" stroke=\"black\" points=\"222.99,-42.44 215.3,-35.15 216.77,-45.64 222.99,-42.44\"/>\n",
       "</g>\n",
       "<!-- Symbol(&#39;y&#39;)_(1, 1, 0, 1) -->\n",
       "<g id=\"node10\" class=\"node\">\n",
       "<title>Symbol(&#39;y&#39;)_(1, 1, 0, 1)</title>\n",
       "<ellipse fill=\"none\" stroke=\"black\" cx=\"279\" cy=\"-18\" rx=\"27\" ry=\"18\"/>\n",
       "<text text-anchor=\"middle\" x=\"279\" y=\"-14.3\" font-family=\"Times,serif\" font-size=\"14.00\">y</text>\n",
       "</g>\n",
       "<!-- Mul(Symbol(&#39;x&#39;), Symbol(&#39;y&#39;))_(1, 1, 0)&#45;&gt;Symbol(&#39;y&#39;)_(1, 1, 0, 1) -->\n",
       "<g id=\"edge10\" class=\"edge\">\n",
       "<title>Mul(Symbol(&#39;x&#39;), Symbol(&#39;y&#39;))_(1, 1, 0)&#45;&gt;Symbol(&#39;y&#39;)_(1, 1, 0, 1)</title>\n",
       "<path fill=\"none\" stroke=\"black\" d=\"M251.35,-72.76C255.71,-64.28 261.15,-53.71 266.04,-44.2\"/>\n",
       "<polygon fill=\"black\" stroke=\"black\" points=\"269.23,-45.64 270.7,-35.15 263.01,-42.44 269.23,-45.64\"/>\n",
       "</g>\n",
       "<!-- Integer(&#45;1)_(2, 0) -->\n",
       "<g id=\"node12\" class=\"node\">\n",
       "<title>Integer(&#45;1)_(2, 0)</title>\n",
       "<ellipse fill=\"none\" stroke=\"black\" cx=\"315\" cy=\"-162\" rx=\"27\" ry=\"18\"/>\n",
       "<text text-anchor=\"middle\" x=\"315\" y=\"-158.3\" font-family=\"Times,serif\" font-size=\"14.00\">&#45;1</text>\n",
       "</g>\n",
       "<!-- Mul(Integer(&#45;1), Pow(Symbol(&#39;x&#39;), Integer(2)))_(2,)&#45;&gt;Integer(&#45;1)_(2, 0) -->\n",
       "<g id=\"edge11\" class=\"edge\">\n",
       "<title>Mul(Integer(&#45;1), Pow(Symbol(&#39;x&#39;), Integer(2)))_(2,)&#45;&gt;Integer(&#45;1)_(2, 0)</title>\n",
       "<path fill=\"none\" stroke=\"black\" d=\"M315,-215.7C315,-207.98 315,-198.71 315,-190.11\"/>\n",
       "<polygon fill=\"black\" stroke=\"black\" points=\"318.5,-190.1 315,-180.1 311.5,-190.1 318.5,-190.1\"/>\n",
       "</g>\n",
       "<!-- Pow(Symbol(&#39;x&#39;), Integer(2))_(2, 1) -->\n",
       "<g id=\"node13\" class=\"node\">\n",
       "<title>Pow(Symbol(&#39;x&#39;), Integer(2))_(2, 1)</title>\n",
       "<ellipse fill=\"none\" stroke=\"black\" cx=\"390\" cy=\"-162\" rx=\"29.8\" ry=\"18\"/>\n",
       "<text text-anchor=\"middle\" x=\"390\" y=\"-158.3\" font-family=\"Times,serif\" font-size=\"14.00\">Pow</text>\n",
       "</g>\n",
       "<!-- Mul(Integer(&#45;1), Pow(Symbol(&#39;x&#39;), Integer(2)))_(2,)&#45;&gt;Pow(Symbol(&#39;x&#39;), Integer(2))_(2, 1) -->\n",
       "<g id=\"edge12\" class=\"edge\">\n",
       "<title>Mul(Integer(&#45;1), Pow(Symbol(&#39;x&#39;), Integer(2)))_(2,)&#45;&gt;Pow(Symbol(&#39;x&#39;), Integer(2))_(2, 1)</title>\n",
       "<path fill=\"none\" stroke=\"black\" d=\"M330.54,-218.5C341.1,-208.64 355.24,-195.44 367.09,-184.38\"/>\n",
       "<polygon fill=\"black\" stroke=\"black\" points=\"369.56,-186.87 374.48,-177.49 364.78,-181.75 369.56,-186.87\"/>\n",
       "</g>\n",
       "<!-- Symbol(&#39;x&#39;)_(2, 1, 0) -->\n",
       "<g id=\"node14\" class=\"node\">\n",
       "<title>Symbol(&#39;x&#39;)_(2, 1, 0)</title>\n",
       "<ellipse fill=\"none\" stroke=\"black\" cx=\"354\" cy=\"-90\" rx=\"27\" ry=\"18\"/>\n",
       "<text text-anchor=\"middle\" x=\"354\" y=\"-86.3\" font-family=\"Times,serif\" font-size=\"14.00\">x</text>\n",
       "</g>\n",
       "<!-- Pow(Symbol(&#39;x&#39;), Integer(2))_(2, 1)&#45;&gt;Symbol(&#39;x&#39;)_(2, 1, 0) -->\n",
       "<g id=\"edge13\" class=\"edge\">\n",
       "<title>Pow(Symbol(&#39;x&#39;), Integer(2))_(2, 1)&#45;&gt;Symbol(&#39;x&#39;)_(2, 1, 0)</title>\n",
       "<path fill=\"none\" stroke=\"black\" d=\"M381.47,-144.41C377.16,-136.04 371.85,-125.71 367.05,-116.37\"/>\n",
       "<polygon fill=\"black\" stroke=\"black\" points=\"370.16,-114.76 362.47,-107.47 363.93,-117.96 370.16,-114.76\"/>\n",
       "</g>\n",
       "<!-- Integer(2)_(2, 1, 1) -->\n",
       "<g id=\"node15\" class=\"node\">\n",
       "<title>Integer(2)_(2, 1, 1)</title>\n",
       "<ellipse fill=\"none\" stroke=\"black\" cx=\"426\" cy=\"-90\" rx=\"27\" ry=\"18\"/>\n",
       "<text text-anchor=\"middle\" x=\"426\" y=\"-86.3\" font-family=\"Times,serif\" font-size=\"14.00\">2</text>\n",
       "</g>\n",
       "<!-- Pow(Symbol(&#39;x&#39;), Integer(2))_(2, 1)&#45;&gt;Integer(2)_(2, 1, 1) -->\n",
       "<g id=\"edge14\" class=\"edge\">\n",
       "<title>Pow(Symbol(&#39;x&#39;), Integer(2))_(2, 1)&#45;&gt;Integer(2)_(2, 1, 1)</title>\n",
       "<path fill=\"none\" stroke=\"black\" d=\"M398.53,-144.41C402.84,-136.04 408.15,-125.71 412.95,-116.37\"/>\n",
       "<polygon fill=\"black\" stroke=\"black\" points=\"416.07,-117.96 417.53,-107.47 409.84,-114.76 416.07,-117.96\"/>\n",
       "</g>\n",
       "</g>\n",
       "</svg>\n"
      ],
      "text/plain": [
       "<graphviz.files.Source at 0x7f6af17918b0>"
      ]
     },
     "metadata": {},
     "output_type": "display_data"
    }
   ],
   "source": [
    "# A graphviz\n",
    "src = graphviz.Source(sympy.dotprint(expr))\n",
    "\n",
    "# Ha el akarnánk menteni ezt egy pdf-be\n",
    "#src.render('output.gv', view=False, cleanup=True)\n",
    "\n",
    "display(src)"
   ]
  },
  {
   "cell_type": "markdown",
   "id": "ed761626-d0f2-4128-b9f3-7317703df9e9",
   "metadata": {},
   "source": [
    "#### 2.3. Különbség a Python változók és a `sympy` szimbolikus változói között\n",
    "\n",
    "Elsőre nagyon könnyen (legtöbb esetben) megtévesztő lehet egy kezdő számára, hogy konvenció szerint a Python változó nevét (pl. `x`) és az ennek értékül adott `class` argumentumában szereplő konkrét szimbolikus változót jelölő stringet (pl. szintén `'x'`) azonosan jelöljük. Ilyenkor `x` és `'x'` működése és használata könnyen összekeveredhet az ember fejében.\n",
    "\n",
    "A Python és a `sympy` szimbolikus változói közötti különbség megérthető az alábbi, a `sympy` honlapján is szereplő egyszerű példával:"
   ]
  },
  {
   "cell_type": "code",
   "execution_count": 217,
   "id": "99685474-2382-42d1-b960-a3304926259d",
   "metadata": {},
   "outputs": [],
   "source": [
    "expr = x + 1\n",
    "x = 2"
   ]
  },
  {
   "cell_type": "markdown",
   "id": "8cb8a55e-ac99-4761-b0e4-9a1504ad2d63",
   "metadata": {},
   "source": [
    "Mi az értéke így az `expr` változónak?\n",
    "\n",
    "1) $x + 1$\n",
    "2) $3$"
   ]
  },
  {
   "cell_type": "code",
   "execution_count": 16,
   "id": "0a6d68d7-b856-4924-934e-8ab2358272af",
   "metadata": {},
   "outputs": [
    {
     "data": {
      "text/latex": [
       "$\\displaystyle x + 1$"
      ],
      "text/plain": [
       "x + 1"
      ]
     },
     "metadata": {},
     "output_type": "display_data"
    }
   ],
   "source": [
    "display(expr)"
   ]
  },
  {
   "cell_type": "markdown",
   "id": "13635fa3-530e-4e34-aea6-5c4f717a6b3f",
   "metadata": {},
   "source": [
    "#### Miért ez az eredmény?\n",
    "\n",
    "Az első\n",
    "\n",
    "```python\n",
    "expr = x + 1\n",
    "```\n",
    "\n",
    "sorban `x` még a fentebbi cellában neki értékül adott, `'x'` nevű szimbolikus változót tartalmazó `Symbol class`-val egyenlő. Az `expr`-nek történő értékadással egy `x + 1` értékű, `expr` elnevezésű, szimbolikus változót hozunk létre.\n",
    "\n",
    "A második\n",
    "\n",
    "```python\n",
    "x = 2\n",
    "```\n",
    "\n",
    "sorban a Python változó értékét egy `class`-ról egy sima `int`-re változtatjuk. Ennek már utólagosan nincsen semmilyen hatása az előtte már definiált `expr` nevű szimbolikus változóra, ahol az `x` régi értékét használtuk még fel."
   ]
  },
  {
   "cell_type": "markdown",
   "id": "03907326-41c2-4746-9ddf-72a240a50ace",
   "metadata": {},
   "source": [
    "### 3. `Sympy` egyszerűsítések\n",
    "\n",
    "A `sympy` rengeteg függvényt tartalmaz, mely különböző típusú matematikai egyszerűsítések elvégzésére lett tervezve. Ilyen egyszerűsítések pl. a szorzattá alakítás, trigonometrikus függvények kifejezésének egyszerűsítése, stb. A `sympy` ilyen feladatokat elvégző függvényei több csoportba sorolhatóak:\n",
    "\n",
    "| Polynomial/Rational | Trigonometric | Powers              | Exp/log      | Special (others) |\n",
    "|:-------------------:|:-------------:|:-------------------:|:------------:|:----------------:|\n",
    "| `expand`            | `trigsimp`    | `powsimp`           | `expand_log` | $\\vdots$         |\n",
    "| `factor`            | `expand_trig` | `expand_power_exp`  | `logcombine` | $\\vdots$         |\n",
    "| `collect`           |               | `expand_power_base` |              | $\\vdots$         |\n",
    "| `cancel`            |               | `powdenest`         |              | $\\vdots$         |\n",
    "| `apart`             |               |                     |              | $\\vdots$         |\n",
    "\n",
    "Ezek közül mindig érdemes az adott kifejezés számára a legmegfelelőbbet kiválasztani és az alapján továbbhaladni. Ha azonban kellően egyszerű az egyszerűbb formára hozandó kifejezés, amivel dolgunk van, használhatjuk a fentieket összefoglaló `simplify` függvényt is. **Ennek hátránya, hogy minden egyszerűsítési módszert először végigpróbál, majd csak utána választja ki a legmegfelelőbbet.** Emiatt egyes könnyebb esetekben is már aránytalanul lassú lehet, míg bonyolultabb kifejezéseknél ennek a használata kifejezetten nem tanácsos. Emellett már könnyebb esetekben sem feltétlenül azt csinálja, amit az ember triviálisan szeretne, hanem ami neki a legkönnyebb."
   ]
  },
  {
   "cell_type": "code",
   "execution_count": 17,
   "id": "13a1a7ef-c3db-4acb-9d46-732ff621ab4d",
   "metadata": {},
   "outputs": [],
   "source": [
    "x, y, z = sympy.symbols('x y z')"
   ]
  },
  {
   "cell_type": "markdown",
   "id": "e5261ffe-a4af-4a0c-aacb-46fa6fca0176",
   "metadata": {},
   "source": [
    "#### 3.1. Példák `simplify`-ra"
   ]
  },
  {
   "cell_type": "markdown",
   "id": "b02e2e2a-3dc2-403b-ab1d-11e0c9bbcb46",
   "metadata": {},
   "source": [
    "1. $sin \\left( x \\right)^{2} + cos \\left( x \\right)^{2}$"
   ]
  },
  {
   "cell_type": "code",
   "execution_count": 18,
   "id": "3f66e674-356c-4cf6-ad4b-e987f10b5f50",
   "metadata": {},
   "outputs": [
    {
     "data": {
      "text/latex": [
       "$\\displaystyle 1$"
      ],
      "text/plain": [
       "1"
      ]
     },
     "execution_count": 18,
     "metadata": {},
     "output_type": "execute_result"
    }
   ],
   "source": [
    "sympy.simplify(sympy.sin(x)**2 + sympy.cos(x)**2)"
   ]
  },
  {
   "cell_type": "markdown",
   "id": "cdcd6e64-1eaf-4d92-ac43-0b0413927c96",
   "metadata": {},
   "source": [
    "2. $\\dfrac{x^{3} + x^{2} - x - 1}{x^{2} + 2 x + 1}$"
   ]
  },
  {
   "cell_type": "code",
   "execution_count": 19,
   "id": "703b70de-60f7-482f-ac35-9d988210983f",
   "metadata": {},
   "outputs": [
    {
     "data": {
      "text/latex": [
       "$\\displaystyle x - 1$"
      ],
      "text/plain": [
       "x - 1"
      ]
     },
     "execution_count": 19,
     "metadata": {},
     "output_type": "execute_result"
    }
   ],
   "source": [
    "sympy.simplify((x**3 + x**2 - x - 1) / (x**2 + 2*x + 1))"
   ]
  },
  {
   "cell_type": "markdown",
   "id": "26b8020e-25fc-4640-8ed7-af13006f7cff",
   "metadata": {},
   "source": [
    "3. $\\dfrac{\\Gamma \\left( x \\right)}{\\Gamma \\left( x - 2 \\right)}$"
   ]
  },
  {
   "cell_type": "code",
   "execution_count": 20,
   "id": "c4565f64-efbb-40f4-80a5-3a44a8364f01",
   "metadata": {},
   "outputs": [
    {
     "data": {
      "text/latex": [
       "$\\displaystyle \\left(x - 2\\right) \\left(x - 1\\right)$"
      ],
      "text/plain": [
       "(x - 2)*(x - 1)"
      ]
     },
     "execution_count": 20,
     "metadata": {},
     "output_type": "execute_result"
    }
   ],
   "source": [
    "sympy.simplify(sympy.gamma(x) / sympy.gamma(x - 2))"
   ]
  },
  {
   "cell_type": "markdown",
   "id": "1f160ffb-4bcb-4db2-9902-d96b613a5e18",
   "metadata": {},
   "source": [
    "#### 3.2. Ellenpélda `simplify`-ra"
   ]
  },
  {
   "cell_type": "markdown",
   "id": "7ed0310e-c855-4081-bebf-31f6aa0f7a22",
   "metadata": {},
   "source": [
    "Szeretnénk a\n",
    "\n",
    "$$\n",
    "x^{2} - x - 20\n",
    "$$\n",
    "\n",
    "kifejezést szorzattá alakítani... Az eredmény triviálisan\n",
    "\n",
    "$$\n",
    "\\left( x - 5 \\right)\n",
    "\\cdot\n",
    "\\left( x + 4 \\right)\n",
    "$$\n",
    "\n",
    "Nézzük hogy szuperál ebben a `sympy.simplify()`:"
   ]
  },
  {
   "cell_type": "code",
   "execution_count": 21,
   "id": "2360b474-ce6c-4164-80e2-f6cc1685b8b7",
   "metadata": {},
   "outputs": [],
   "source": [
    "expr = x**2 - x - 20"
   ]
  },
  {
   "cell_type": "code",
   "execution_count": 22,
   "id": "241a66c8-5f8b-4975-872f-5533721507a0",
   "metadata": {},
   "outputs": [
    {
     "data": {
      "text/latex": [
       "$\\displaystyle x^{2} - x - 20$"
      ],
      "text/plain": [
       "x**2 - x - 20"
      ]
     },
     "execution_count": 22,
     "metadata": {},
     "output_type": "execute_result"
    }
   ],
   "source": [
    "sympy.simplify(expr)"
   ]
  },
  {
   "cell_type": "markdown",
   "id": "9d3a5b25-5b19-4d5d-97ee-e61e46c9422d",
   "metadata": {},
   "source": [
    "Helyette itt most a `sympy.factor()` függvényt érdemes alkalmazni:"
   ]
  },
  {
   "cell_type": "code",
   "execution_count": 23,
   "id": "63e45e2a-5432-445e-ae02-45a6887f5e51",
   "metadata": {},
   "outputs": [
    {
     "data": {
      "text/latex": [
       "$\\displaystyle \\left(x - 5\\right) \\left(x + 4\\right)$"
      ],
      "text/plain": [
       "(x - 5)*(x + 4)"
      ]
     },
     "execution_count": 23,
     "metadata": {},
     "output_type": "execute_result"
    }
   ],
   "source": [
    "sympy.factor(expr)"
   ]
  },
  {
   "cell_type": "markdown",
   "id": "368924c0-9a21-4fd8-919c-b9491fc38e73",
   "metadata": {},
   "source": [
    "#### 3.3 Rengeteg egyéb függvény\n",
    "\n",
    "Álljon itt pár példa, amik adnak egy halvány képet arról, hogy hány különböző kifejezéshez találhatóak egyszerűsítést elvégző függvények."
   ]
  },
  {
   "cell_type": "markdown",
   "id": "dea50087-c4f8-469e-bfab-143668e52ece",
   "metadata": {},
   "source": [
    "1. Trigonometrikus kifejezés egyszerűsítése"
   ]
  },
  {
   "cell_type": "code",
   "execution_count": 24,
   "id": "0bae466d-34da-473c-9441-df3c221a0d22",
   "metadata": {},
   "outputs": [
    {
     "data": {
      "text/latex": [
       "$\\displaystyle \\sinh^{2}{\\left(x \\right)} + \\cosh^{2}{\\left(x \\right)}$"
      ],
      "text/plain": [
       "sinh(x)**2 + cosh(x)**2"
      ]
     },
     "execution_count": 24,
     "metadata": {},
     "output_type": "execute_result"
    }
   ],
   "source": [
    "expr = sympy.cosh(x)**2 + sympy.sinh(x)**2\n",
    "expr"
   ]
  },
  {
   "cell_type": "code",
   "execution_count": 25,
   "id": "6a2aa44d-098e-4d8f-b102-e5900f0f7734",
   "metadata": {},
   "outputs": [
    {
     "data": {
      "text/latex": [
       "$\\displaystyle \\cosh{\\left(2 x \\right)}$"
      ],
      "text/plain": [
       "cosh(2*x)"
      ]
     },
     "execution_count": 25,
     "metadata": {},
     "output_type": "execute_result"
    }
   ],
   "source": [
    "sympy.trigsimp(expr)"
   ]
  },
  {
   "cell_type": "markdown",
   "id": "7fe024ae-e7a4-4f65-a2f9-0bb4b1182bb0",
   "metadata": {},
   "source": [
    "2. Bonyolult(nak kinéző) tört egyszerűsítése"
   ]
  },
  {
   "cell_type": "code",
   "execution_count": 26,
   "id": "0c237d20-f6cb-48d5-85f0-809c268933de",
   "metadata": {},
   "outputs": [
    {
     "data": {
      "text/latex": [
       "$\\displaystyle \\frac{x y^{2} - 2 x y z + x z^{2} + y^{2} - 2 y z + z^{2}}{x^{2} - 1}$"
      ],
      "text/plain": [
       "(x*y**2 - 2*x*y*z + x*z**2 + y**2 - 2*y*z + z**2)/(x**2 - 1)"
      ]
     },
     "execution_count": 26,
     "metadata": {},
     "output_type": "execute_result"
    }
   ],
   "source": [
    "expr = (x*y**2 - 2*x*y*z + x*z**2 + y**2 - 2*y*z + z**2) / (x**2 - 1)\n",
    "expr"
   ]
  },
  {
   "cell_type": "code",
   "execution_count": 27,
   "id": "d75e0564-cb14-442a-8650-11048eb7c31c",
   "metadata": {},
   "outputs": [
    {
     "data": {
      "text/latex": [
       "$\\displaystyle \\frac{y^{2} - 2 y z + z^{2}}{x - 1}$"
      ],
      "text/plain": [
       "(y**2 - 2*y*z + z**2)/(x - 1)"
      ]
     },
     "execution_count": 27,
     "metadata": {},
     "output_type": "execute_result"
    }
   ],
   "source": [
    "sympy.cancel(expr)"
   ]
  },
  {
   "cell_type": "markdown",
   "id": "09455056-19ec-492b-8518-d51ecbc9d189",
   "metadata": {},
   "source": [
    "3. Törtek felbontása"
   ]
  },
  {
   "cell_type": "code",
   "execution_count": 28,
   "id": "99886cb0-e653-4e04-a19a-9fd4086d0c94",
   "metadata": {},
   "outputs": [
    {
     "data": {
      "text/latex": [
       "$\\displaystyle \\frac{4 x^{3} + 21 x^{2} + 10 x + 12}{x^{4} + 5 x^{3} + 5 x^{2} + 4 x}$"
      ],
      "text/plain": [
       "(4*x**3 + 21*x**2 + 10*x + 12)/(x**4 + 5*x**3 + 5*x**2 + 4*x)"
      ]
     },
     "execution_count": 28,
     "metadata": {},
     "output_type": "execute_result"
    }
   ],
   "source": [
    "expr = (4*x**3 + 21*x**2 + 10*x + 12) / (x**4 + 5*x**3 + 5*x**2 + 4*x)\n",
    "expr"
   ]
  },
  {
   "cell_type": "code",
   "execution_count": 29,
   "id": "d0221a54-b72d-46d9-87a8-5d608ddc47be",
   "metadata": {},
   "outputs": [
    {
     "data": {
      "text/latex": [
       "$\\displaystyle \\frac{2 x - 1}{x^{2} + x + 1} - \\frac{1}{x + 4} + \\frac{3}{x}$"
      ],
      "text/plain": [
       "(2*x - 1)/(x**2 + x + 1) - 1/(x + 4) + 3/x"
      ]
     },
     "execution_count": 29,
     "metadata": {},
     "output_type": "execute_result"
    }
   ],
   "source": [
    "sympy.apart(expr)"
   ]
  },
  {
   "cell_type": "markdown",
   "id": "6869f259-a7c5-4260-ba1a-88c204308f5b",
   "metadata": {},
   "source": [
    "4. Speciális függvények átalakítása\n",
    "\n",
    "Amikor egy `A` függvényt értékét egy `B` függvénnyel szeretnénk kifejezni."
   ]
  },
  {
   "cell_type": "code",
   "execution_count": 30,
   "id": "82df7d81-18eb-4f83-84c0-d48eac4b2c8d",
   "metadata": {},
   "outputs": [
    {
     "data": {
      "text/latex": [
       "$\\displaystyle \\tan{\\left(x \\right)}$"
      ],
      "text/plain": [
       "tan(x)"
      ]
     },
     "execution_count": 30,
     "metadata": {},
     "output_type": "execute_result"
    }
   ],
   "source": [
    "expr = sympy.tan(x)\n",
    "expr"
   ]
  },
  {
   "cell_type": "markdown",
   "id": "6f776ddd-2f9d-4f59-b3d8-4dff20655029",
   "metadata": {},
   "source": [
    "A $\\tan \\left( x \\right)$ átírtható kizárólag $\\sin$ függvényekkel kifejezve az alábbi alakra:"
   ]
  },
  {
   "cell_type": "code",
   "execution_count": 31,
   "id": "2cba1287-6c33-4665-ba5a-029dcb13e18d",
   "metadata": {},
   "outputs": [
    {
     "data": {
      "text/latex": [
       "$\\displaystyle \\frac{2 \\sin^{2}{\\left(x \\right)}}{\\sin{\\left(2 x \\right)}}$"
      ],
      "text/plain": [
       "2*sin(x)**2/sin(2*x)"
      ]
     },
     "execution_count": 31,
     "metadata": {},
     "output_type": "execute_result"
    }
   ],
   "source": [
    "expr.rewrite(sympy.sin)"
   ]
  },
  {
   "cell_type": "markdown",
   "id": "b96f0560-a6ba-4347-a96a-2a9fb01d6a05",
   "metadata": {},
   "source": [
    "---"
   ]
  },
  {
   "cell_type": "code",
   "execution_count": 32,
   "id": "97f9fd92-d470-41a1-a107-be82378d2808",
   "metadata": {},
   "outputs": [
    {
     "data": {
      "text/latex": [
       "$\\displaystyle x!$"
      ],
      "text/plain": [
       "factorial(x)"
      ]
     },
     "execution_count": 32,
     "metadata": {},
     "output_type": "execute_result"
    }
   ],
   "source": [
    "expr = sympy.factorial(x)\n",
    "expr"
   ]
  },
  {
   "cell_type": "code",
   "execution_count": 33,
   "id": "364cd36f-6bba-4992-a9e8-a0d2d8b9917e",
   "metadata": {},
   "outputs": [
    {
     "data": {
      "text/latex": [
       "$\\displaystyle \\Gamma\\left(x + 1\\right)$"
      ],
      "text/plain": [
       "gamma(x + 1)"
      ]
     },
     "execution_count": 33,
     "metadata": {},
     "output_type": "execute_result"
    }
   ],
   "source": [
    "expr.rewrite(sympy.gamma)"
   ]
  },
  {
   "cell_type": "markdown",
   "id": "3fe24449-a699-49e6-a60a-16c35704be89",
   "metadata": {},
   "source": [
    "### 4. `Sympy` analízis\n",
    "\n",
    "At előzőeknél lehet, hogy jóval izgalmasabb téma a kalkulus témakörébe tartozó kifejezések megoldása. Ilyen pl. az integrálás, vagy a határérték számítás. "
   ]
  },
  {
   "cell_type": "markdown",
   "id": "70889392-ac47-4385-b4b4-ef45bf150045",
   "metadata": {},
   "source": [
    "#### 4.1. Deriválás\n",
    "\n",
    "Deriválás során a `sympy.deriv()`, vagy a `sympy.Derivative()` függvényeket használjuk. Míg az első azonnal elvégzi a deriválás, addig a második függvény nem, azt csupán egy `sympy.Derivative() class`-á alakítja át."
   ]
  },
  {
   "cell_type": "markdown",
   "id": "9fbdd61d-8da4-4973-9489-3646a28944cf",
   "metadata": {},
   "source": [
    "##### 4.1.1. Egy változó szerinti deriválás"
   ]
  },
  {
   "cell_type": "markdown",
   "id": "a8a0a1d8-f17d-4e56-962f-5c054137c1f3",
   "metadata": {},
   "source": [
    "1. $e^{x^{2}}$"
   ]
  },
  {
   "cell_type": "code",
   "execution_count": 34,
   "id": "57a7a4dc-b1c3-47ec-947d-b63707925104",
   "metadata": {},
   "outputs": [],
   "source": [
    "expr = sympy.exp(x**2)"
   ]
  },
  {
   "cell_type": "code",
   "execution_count": 35,
   "id": "d19f42b0-fbce-4db9-b1b1-717540e78d47",
   "metadata": {},
   "outputs": [
    {
     "data": {
      "text/latex": [
       "$\\displaystyle 2 x e^{x^{2}}$"
      ],
      "text/plain": [
       "2*x*exp(x**2)"
      ]
     },
     "execution_count": 35,
     "metadata": {},
     "output_type": "execute_result"
    }
   ],
   "source": [
    "sympy.diff(\n",
    "  expr, # A deriválandó kifejezés\n",
    "  x     # A változó, ami szerint a deriválást el kell végezzük\n",
    ")"
   ]
  },
  {
   "cell_type": "markdown",
   "id": "299fd43d-47f6-47ca-9aea-c00d1f6d2cf3",
   "metadata": {},
   "source": [
    "2. $x^{x}$"
   ]
  },
  {
   "cell_type": "code",
   "execution_count": 36,
   "id": "598c6a0e-4ea5-488b-8cfe-7f60a561151f",
   "metadata": {},
   "outputs": [],
   "source": [
    "expr = sympy.exp(x**x)"
   ]
  },
  {
   "cell_type": "code",
   "execution_count": 37,
   "id": "2c831e68-c627-4cad-a35c-63d3d4127b37",
   "metadata": {},
   "outputs": [
    {
     "data": {
      "text/latex": [
       "$\\displaystyle x^{x} \\left(\\log{\\left(x \\right)} + 1\\right) e^{x^{x}}$"
      ],
      "text/plain": [
       "x**x*(log(x) + 1)*exp(x**x)"
      ]
     },
     "execution_count": 37,
     "metadata": {},
     "output_type": "execute_result"
    }
   ],
   "source": [
    "sympy.diff(expr, x)"
   ]
  },
  {
   "cell_type": "markdown",
   "id": "8c8adcc7-b411-417d-b895-c8b9421ddabc",
   "metadata": {},
   "source": [
    "##### 4.1.2. Magasabb rendű deriváltak"
   ]
  },
  {
   "cell_type": "code",
   "execution_count": 38,
   "id": "6d165f9d-ef25-4588-8e3f-e651351ea102",
   "metadata": {},
   "outputs": [],
   "source": [
    "expr = sympy.exp(x**x) / ( x**4 * sympy.sin(x) )"
   ]
  },
  {
   "cell_type": "code",
   "execution_count": 39,
   "id": "de5bae85-2594-4b79-956c-910d32c9e350",
   "metadata": {},
   "outputs": [
    {
     "data": {
      "text/latex": [
       "$\\displaystyle \\frac{e^{x^{x}}}{x^{4} \\sin{\\left(x \\right)}}$"
      ],
      "text/plain": [
       "exp(x**x)/(x**4*sin(x))"
      ]
     },
     "execution_count": 39,
     "metadata": {},
     "output_type": "execute_result"
    }
   ],
   "source": [
    "expr"
   ]
  },
  {
   "cell_type": "code",
   "execution_count": 40,
   "id": "4003f642-452e-44dd-9477-eabc78517911",
   "metadata": {},
   "outputs": [],
   "source": [
    "import matplotlib.pyplot as plt"
   ]
  },
  {
   "cell_type": "code",
   "execution_count": 41,
   "id": "a2c997d4-32f5-463f-b240-358ebf13f426",
   "metadata": {},
   "outputs": [],
   "source": [
    "X = np.linspace(0.8,2.1,100)\n",
    "Y = np.exp(X**X) / (X**4 * np.sin(X))"
   ]
  },
  {
   "cell_type": "code",
   "execution_count": 42,
   "id": "3d2b65bc-8e9a-47aa-9367-64377c05b646",
   "metadata": {},
   "outputs": [
    {
     "data": {
      "image/png": "[encoded data removed]",
      "text/plain": [
       "<Figure size 576x288 with 1 Axes>"
      ]
     },
     "metadata": {
      "needs_background": "light"
     },
     "output_type": "display_data"
    }
   ],
   "source": [
    "fig, ax = plt.subplots(figsize=(8,4))\n",
    "ax.plot(X,Y)\n",
    "plt.show()"
   ]
  },
  {
   "cell_type": "code",
   "execution_count": 43,
   "id": "3520c9e4-aac4-47ad-89c0-27b13c9986b4",
   "metadata": {},
   "outputs": [
    {
     "name": "stdout",
     "output_type": "stream",
     "text": [
      "Első rend:\n",
      "---------------\n"
     ]
    },
    {
     "data": {
      "text/latex": [
       "$\\displaystyle \\frac{x^{x} \\left(\\log{\\left(x \\right)} + 1\\right) e^{x^{x}}}{x^{4} \\sin{\\left(x \\right)}} - \\frac{e^{x^{x}} \\cos{\\left(x \\right)}}{x^{4} \\sin^{2}{\\left(x \\right)}} - \\frac{4 e^{x^{x}}}{x^{5} \\sin{\\left(x \\right)}}$"
      ],
      "text/plain": [
       "x**x*(log(x) + 1)*exp(x**x)/(x**4*sin(x)) - exp(x**x)*cos(x)/(x**4*sin(x)**2) - 4*exp(x**x)/(x**5*sin(x))"
      ]
     },
     "metadata": {},
     "output_type": "display_data"
    },
    {
     "name": "stdout",
     "output_type": "stream",
     "text": [
      "\n",
      "Második rend:\n",
      "---------------\n"
     ]
    },
    {
     "data": {
      "text/latex": [
       "$\\displaystyle \\frac{\\left(- \\frac{2 x^{x} \\left(\\log{\\left(x \\right)} + 1\\right) \\cos{\\left(x \\right)}}{\\sin{\\left(x \\right)}} + x^{x} \\left(x^{x} \\left(\\log{\\left(x \\right)} + 1\\right)^{2} + \\left(\\log{\\left(x \\right)} + 1\\right)^{2} + \\frac{1}{x}\\right) + 1 + \\frac{2 \\cos^{2}{\\left(x \\right)}}{\\sin^{2}{\\left(x \\right)}} - \\frac{8 x^{x} \\left(\\log{\\left(x \\right)} + 1\\right)}{x} + \\frac{8 \\cos{\\left(x \\right)}}{x \\sin{\\left(x \\right)}} + \\frac{20}{x^{2}}\\right) e^{x^{x}}}{x^{4} \\sin{\\left(x \\right)}}$"
      ],
      "text/plain": [
       "(-2*x**x*(log(x) + 1)*cos(x)/sin(x) + x**x*(x**x*(log(x) + 1)**2 + (log(x) + 1)**2 + 1/x) + 1 + 2*cos(x)**2/sin(x)**2 - 8*x**x*(log(x) + 1)/x + 8*cos(x)/(x*sin(x)) + 20/x**2)*exp(x**x)/(x**4*sin(x))"
      ]
     },
     "metadata": {},
     "output_type": "display_data"
    },
    {
     "name": "stdout",
     "output_type": "stream",
     "text": [
      "\n",
      "Harmadik rend:\n",
      "---------------\n"
     ]
    },
    {
     "data": {
      "text/latex": [
       "$\\displaystyle \\frac{\\left(3 x^{x} \\left(1 + \\frac{2 \\cos^{2}{\\left(x \\right)}}{\\sin^{2}{\\left(x \\right)}}\\right) \\left(\\log{\\left(x \\right)} + 1\\right) - \\frac{3 x^{x} \\left(x^{x} \\left(\\log{\\left(x \\right)} + 1\\right)^{2} + \\left(\\log{\\left(x \\right)} + 1\\right)^{2} + \\frac{1}{x}\\right) \\cos{\\left(x \\right)}}{\\sin{\\left(x \\right)}} + x^{x} \\left(x^{2 x} \\left(\\log{\\left(x \\right)} + 1\\right)^{3} + 3 x^{x} \\left(\\log{\\left(x \\right)} + 1\\right)^{3} + \\left(\\log{\\left(x \\right)} + 1\\right)^{3} + \\frac{3 x^{x} \\left(\\log{\\left(x \\right)} + 1\\right)}{x} + \\frac{3 \\left(\\log{\\left(x \\right)} + 1\\right)}{x} - \\frac{1}{x^{2}}\\right) - \\frac{\\left(5 + \\frac{6 \\cos^{2}{\\left(x \\right)}}{\\sin^{2}{\\left(x \\right)}}\\right) \\cos{\\left(x \\right)}}{\\sin{\\left(x \\right)}} + \\frac{24 x^{x} \\left(\\log{\\left(x \\right)} + 1\\right) \\cos{\\left(x \\right)}}{x \\sin{\\left(x \\right)}} - \\frac{12 x^{x} \\left(x^{x} \\left(\\log{\\left(x \\right)} + 1\\right)^{2} + \\left(\\log{\\left(x \\right)} + 1\\right)^{2} + \\frac{1}{x}\\right)}{x} - \\frac{12 \\left(1 + \\frac{2 \\cos^{2}{\\left(x \\right)}}{\\sin^{2}{\\left(x \\right)}}\\right)}{x} + \\frac{60 x^{x} \\left(\\log{\\left(x \\right)} + 1\\right)}{x^{2}} - \\frac{60 \\cos{\\left(x \\right)}}{x^{2} \\sin{\\left(x \\right)}} - \\frac{120}{x^{3}}\\right) e^{x^{x}}}{x^{4} \\sin{\\left(x \\right)}}$"
      ],
      "text/plain": [
       "(3*x**x*(1 + 2*cos(x)**2/sin(x)**2)*(log(x) + 1) - 3*x**x*(x**x*(log(x) + 1)**2 + (log(x) + 1)**2 + 1/x)*cos(x)/sin(x) + x**x*(x**(2*x)*(log(x) + 1)**3 + 3*x**x*(log(x) + 1)**3 + (log(x) + 1)**3 + 3*x**x*(log(x) + 1)/x + 3*(log(x) + 1)/x - 1/x**2) - (5 + 6*cos(x)**2/sin(x)**2)*cos(x)/sin(x) + 24*x**x*(log(x) + 1)*cos(x)/(x*sin(x)) - 12*x**x*(x**x*(log(x) + 1)**2 + (log(x) + 1)**2 + 1/x)/x - 12*(1 + 2*cos(x)**2/sin(x)**2)/x + 60*x**x*(log(x) + 1)/x**2 - 60*cos(x)/(x**2*sin(x)) - 120/x**3)*exp(x**x)/(x**4*sin(x))"
      ]
     },
     "metadata": {},
     "output_type": "display_data"
    },
    {
     "name": "stdout",
     "output_type": "stream",
     "text": [
      "\n",
      "Negyedik rend:\n",
      "---------------\n"
     ]
    },
    {
     "data": {
      "text/latex": [
       "$\\displaystyle \\frac{\\left(6 x^{x} \\left(1 + \\frac{2 \\cos^{2}{\\left(x \\right)}}{\\sin^{2}{\\left(x \\right)}}\\right) \\left(x^{x} \\left(\\log{\\left(x \\right)} + 1\\right)^{2} + \\left(\\log{\\left(x \\right)} + 1\\right)^{2} + \\frac{1}{x}\\right) - \\frac{4 x^{x} \\left(5 + \\frac{6 \\cos^{2}{\\left(x \\right)}}{\\sin^{2}{\\left(x \\right)}}\\right) \\left(\\log{\\left(x \\right)} + 1\\right) \\cos{\\left(x \\right)}}{\\sin{\\left(x \\right)}} - \\frac{4 x^{x} \\left(x^{2 x} \\left(\\log{\\left(x \\right)} + 1\\right)^{3} + 3 x^{x} \\left(\\log{\\left(x \\right)} + 1\\right)^{3} + \\left(\\log{\\left(x \\right)} + 1\\right)^{3} + \\frac{3 x^{x} \\left(\\log{\\left(x \\right)} + 1\\right)}{x} + \\frac{3 \\left(\\log{\\left(x \\right)} + 1\\right)}{x} - \\frac{1}{x^{2}}\\right) \\cos{\\left(x \\right)}}{\\sin{\\left(x \\right)}} + x^{x} \\left(x^{3 x} \\left(\\log{\\left(x \\right)} + 1\\right)^{4} + 6 x^{2 x} \\left(\\log{\\left(x \\right)} + 1\\right)^{4} + 7 x^{x} \\left(\\log{\\left(x \\right)} + 1\\right)^{4} + \\left(\\log{\\left(x \\right)} + 1\\right)^{4} + \\frac{6 x^{2 x} \\left(\\log{\\left(x \\right)} + 1\\right)^{2}}{x} + \\frac{18 x^{x} \\left(\\log{\\left(x \\right)} + 1\\right)^{2}}{x} + \\frac{6 \\left(\\log{\\left(x \\right)} + 1\\right)^{2}}{x} - \\frac{4 x^{x} \\left(\\log{\\left(x \\right)} + 1\\right)}{x^{2}} + \\frac{3 x^{x}}{x^{2}} - \\frac{4 \\left(\\log{\\left(x \\right)} + 1\\right)}{x^{2}} + \\frac{3}{x^{2}} + \\frac{2}{x^{3}}\\right) + 5 + \\frac{28 \\cos^{2}{\\left(x \\right)}}{\\sin^{2}{\\left(x \\right)}} + \\frac{24 \\cos^{4}{\\left(x \\right)}}{\\sin^{4}{\\left(x \\right)}} - \\frac{48 x^{x} \\left(1 + \\frac{2 \\cos^{2}{\\left(x \\right)}}{\\sin^{2}{\\left(x \\right)}}\\right) \\left(\\log{\\left(x \\right)} + 1\\right)}{x} + \\frac{48 x^{x} \\left(x^{x} \\left(\\log{\\left(x \\right)} + 1\\right)^{2} + \\left(\\log{\\left(x \\right)} + 1\\right)^{2} + \\frac{1}{x}\\right) \\cos{\\left(x \\right)}}{x \\sin{\\left(x \\right)}} - \\frac{16 x^{x} \\left(x^{2 x} \\left(\\log{\\left(x \\right)} + 1\\right)^{3} + 3 x^{x} \\left(\\log{\\left(x \\right)} + 1\\right)^{3} + \\left(\\log{\\left(x \\right)} + 1\\right)^{3} + \\frac{3 x^{x} \\left(\\log{\\left(x \\right)} + 1\\right)}{x} + \\frac{3 \\left(\\log{\\left(x \\right)} + 1\\right)}{x} - \\frac{1}{x^{2}}\\right)}{x} + \\frac{16 \\left(5 + \\frac{6 \\cos^{2}{\\left(x \\right)}}{\\sin^{2}{\\left(x \\right)}}\\right) \\cos{\\left(x \\right)}}{x \\sin{\\left(x \\right)}} - \\frac{240 x^{x} \\left(\\log{\\left(x \\right)} + 1\\right) \\cos{\\left(x \\right)}}{x^{2} \\sin{\\left(x \\right)}} + \\frac{120 x^{x} \\left(x^{x} \\left(\\log{\\left(x \\right)} + 1\\right)^{2} + \\left(\\log{\\left(x \\right)} + 1\\right)^{2} + \\frac{1}{x}\\right)}{x^{2}} + \\frac{120 \\left(1 + \\frac{2 \\cos^{2}{\\left(x \\right)}}{\\sin^{2}{\\left(x \\right)}}\\right)}{x^{2}} - \\frac{480 x^{x} \\left(\\log{\\left(x \\right)} + 1\\right)}{x^{3}} + \\frac{480 \\cos{\\left(x \\right)}}{x^{3} \\sin{\\left(x \\right)}} + \\frac{840}{x^{4}}\\right) e^{x^{x}}}{x^{4} \\sin{\\left(x \\right)}}$"
      ],
      "text/plain": [
       "(6*x**x*(1 + 2*cos(x)**2/sin(x)**2)*(x**x*(log(x) + 1)**2 + (log(x) + 1)**2 + 1/x) - 4*x**x*(5 + 6*cos(x)**2/sin(x)**2)*(log(x) + 1)*cos(x)/sin(x) - 4*x**x*(x**(2*x)*(log(x) + 1)**3 + 3*x**x*(log(x) + 1)**3 + (log(x) + 1)**3 + 3*x**x*(log(x) + 1)/x + 3*(log(x) + 1)/x - 1/x**2)*cos(x)/sin(x) + x**x*(x**(3*x)*(log(x) + 1)**4 + 6*x**(2*x)*(log(x) + 1)**4 + 7*x**x*(log(x) + 1)**4 + (log(x) + 1)**4 + 6*x**(2*x)*(log(x) + 1)**2/x + 18*x**x*(log(x) + 1)**2/x + 6*(log(x) + 1)**2/x - 4*x**x*(log(x) + 1)/x**2 + 3*x**x/x**2 - 4*(log(x) + 1)/x**2 + 3/x**2 + 2/x**3) + 5 + 28*cos(x)**2/sin(x)**2 + 24*cos(x)**4/sin(x)**4 - 48*x**x*(1 + 2*cos(x)**2/sin(x)**2)*(log(x) + 1)/x + 48*x**x*(x**x*(log(x) + 1)**2 + (log(x) + 1)**2 + 1/x)*cos(x)/(x*sin(x)) - 16*x**x*(x**(2*x)*(log(x) + 1)**3 + 3*x**x*(log(x) + 1)**3 + (log(x) + 1)**3 + 3*x**x*(log(x) + 1)/x + 3*(log(x) + 1)/x - 1/x**2)/x + 16*(5 + 6*cos(x)**2/sin(x)**2)*cos(x)/(x*sin(x)) - 240*x**x*(log(x) + 1)*cos(x)/(x**2*sin(x)) + 120*x**x*(x**x*(log(x) + 1)**2 + (log(x) + 1)**2 + 1/x)/x**2 + 120*(1 + 2*cos(x)**2/sin(x)**2)/x**2 - 480*x**x*(log(x) + 1)/x**3 + 480*cos(x)/(x**3*sin(x)) + 840/x**4)*exp(x**x)/(x**4*sin(x))"
      ]
     },
     "metadata": {},
     "output_type": "display_data"
    }
   ],
   "source": [
    "print('Első rend:\\n' +\n",
    "      '-'*15)\n",
    "display(sympy.diff(expr, x, 1))\n",
    "print()\n",
    "print('Második rend:\\n' +\n",
    "      '-'*15)\n",
    "display(sympy.diff(expr, x, 2))\n",
    "print()\n",
    "print('Harmadik rend:\\n' +\n",
    "      '-'*15)\n",
    "display(sympy.diff(expr, x, 3))\n",
    "print()\n",
    "print('Negyedik rend:\\n' +\n",
    "      '-'*15)\n",
    "display(sympy.diff(expr, x, 4))"
   ]
  },
  {
   "cell_type": "markdown",
   "id": "a53ccce5-e8ee-427d-9db5-fc1a948b236c",
   "metadata": {},
   "source": [
    "##### 4.1.3. Több változó szerinti deriválás"
   ]
  },
  {
   "cell_type": "code",
   "execution_count": 44,
   "id": "5e99a5f4-1244-4bd0-8e94-3c942aa9d69b",
   "metadata": {},
   "outputs": [],
   "source": [
    "expr = sympy.exp(x*y*z)"
   ]
  },
  {
   "cell_type": "code",
   "execution_count": 45,
   "id": "42690704-6f9f-4329-b104-aeb0071207a3",
   "metadata": {},
   "outputs": [
    {
     "data": {
      "text/latex": [
       "$\\displaystyle x z^{2} \\left(x^{3} y^{3} z^{3} + 11 x^{2} y^{2} z^{2} + 30 x y z + 18\\right) e^{x y z}$"
      ],
      "text/plain": [
       "x*z**2*(x**3*y**3*z**3 + 11*x**2*y**2*z**2 + 30*x*y*z + 18)*exp(x*y*z)"
      ]
     },
     "execution_count": 45,
     "metadata": {},
     "output_type": "execute_result"
    }
   ],
   "source": [
    "sympy.diff(expr, x, 2, y, 3, z, 1)"
   ]
  },
  {
   "cell_type": "markdown",
   "id": "2f0bbfb8-f5bc-4395-9a73-dc105ec59e73",
   "metadata": {},
   "source": [
    "##### 4.1.4. Nem elvégzett deriválás"
   ]
  },
  {
   "cell_type": "code",
   "execution_count": 46,
   "id": "f99edbfa-be21-4ef8-94db-04fa1d1cc268",
   "metadata": {},
   "outputs": [],
   "source": [
    "deriv = sympy.Derivative(expr, x, 2, y, 3, z, 1)"
   ]
  },
  {
   "cell_type": "code",
   "execution_count": 47,
   "id": "08ed32c9-0aad-4d24-8f97-66b7ff4c6224",
   "metadata": {},
   "outputs": [
    {
     "data": {
      "text/latex": [
       "$\\displaystyle \\frac{\\partial^{6}}{\\partial z\\partial y^{3}\\partial x^{2}} e^{x y z}$"
      ],
      "text/plain": [
       "Derivative(exp(x*y*z), (x, 2), (y, 3), z)"
      ]
     },
     "execution_count": 47,
     "metadata": {},
     "output_type": "execute_result"
    }
   ],
   "source": [
    "deriv"
   ]
  },
  {
   "cell_type": "code",
   "execution_count": 48,
   "id": "6749c478-304a-4378-a99f-dcf0a56c2d63",
   "metadata": {},
   "outputs": [
    {
     "name": "stdout",
     "output_type": "stream",
     "text": [
      "Type of derivative expression:\n",
      "\t\t <class 'sympy.core.function.Derivative'>\n",
      "-------------------------------------------------------\n"
     ]
    }
   ],
   "source": [
    "print('Type of derivative expression:\\n\\t\\t', type(deriv))\n",
    "print('-'*55)"
   ]
  },
  {
   "cell_type": "code",
   "execution_count": 49,
   "id": "7086df99-2305-4592-a9bb-eb85bbd16f29",
   "metadata": {},
   "outputs": [
    {
     "data": {
      "text/latex": [
       "$\\displaystyle x z^{2} \\left(x^{3} y^{3} z^{3} + 11 x^{2} y^{2} z^{2} + 30 x y z + 18\\right) e^{x y z}$"
      ],
      "text/plain": [
       "x*z**2*(x**3*y**3*z**3 + 11*x**2*y**2*z**2 + 30*x*y*z + 18)*exp(x*y*z)"
      ]
     },
     "execution_count": 49,
     "metadata": {},
     "output_type": "execute_result"
    }
   ],
   "source": [
    "deriv.doit()"
   ]
  },
  {
   "cell_type": "markdown",
   "id": "76d3a85c-e62b-43b5-b6ad-f3ecfd8aa6dc",
   "metadata": {
    "tags": []
   },
   "source": [
    "#### 4.2. Integrálás\n",
    "\n",
    "Itt kizárólag a `sympy.integrate()` függvényt tudjuk szimbolikus integrálásra használni. Ez bőven elég, hisz ezt mind határozott, mind határozatlan integrálok esetén is használhatjuk, valamint a speciális függvényekkel is elbánik. Hasonlóan a deriváláshoz, az `integrate()` függvény is képes több változós egyenleteket kezeni."
   ]
  },
  {
   "cell_type": "markdown",
   "id": "f2ae38e7-e1f7-4845-bae1-4671faf49ba9",
   "metadata": {},
   "source": [
    "##### 4.2.1. Határozatlan integrálok"
   ]
  },
  {
   "cell_type": "code",
   "execution_count": 50,
   "id": "5e5ec555-e494-49c2-9d00-e46b33a7c4c8",
   "metadata": {},
   "outputs": [],
   "source": [
    "expr = sympy.tan(x)**(2)"
   ]
  },
  {
   "cell_type": "code",
   "execution_count": 51,
   "id": "b99e2939-e11e-4c33-ad1b-c03acf41c4a9",
   "metadata": {},
   "outputs": [
    {
     "data": {
      "text/latex": [
       "$\\displaystyle \\tan^{2}{\\left(x \\right)}$"
      ],
      "text/plain": [
       "tan(x)**2"
      ]
     },
     "execution_count": 51,
     "metadata": {},
     "output_type": "execute_result"
    }
   ],
   "source": [
    "expr"
   ]
  },
  {
   "cell_type": "code",
   "execution_count": 52,
   "id": "a0154105-9f9b-4a58-b6e0-d130d9af6e23",
   "metadata": {},
   "outputs": [
    {
     "data": {
      "text/latex": [
       "$\\displaystyle - x + \\frac{\\sin{\\left(x \\right)}}{\\cos{\\left(x \\right)}}$"
      ],
      "text/plain": [
       "-x + sin(x)/cos(x)"
      ]
     },
     "execution_count": 52,
     "metadata": {},
     "output_type": "execute_result"
    }
   ],
   "source": [
    "sympy.integrate(expr, x)"
   ]
  },
  {
   "cell_type": "markdown",
   "id": "9007e0f8-0df6-4ce8-a6c8-55841cfa0f38",
   "metadata": {},
   "source": [
    "---"
   ]
  },
  {
   "cell_type": "code",
   "execution_count": 53,
   "id": "e95fafbd-273e-4aa4-baac-42ccd468a8de",
   "metadata": {},
   "outputs": [],
   "source": [
    "expr = sympy.tan(x)**(2) * sympy.sin(x)"
   ]
  },
  {
   "cell_type": "code",
   "execution_count": 54,
   "id": "383f492e-cd09-4e82-9199-909582216d49",
   "metadata": {},
   "outputs": [
    {
     "data": {
      "text/latex": [
       "$\\displaystyle \\sin{\\left(x \\right)} \\tan^{2}{\\left(x \\right)}$"
      ],
      "text/plain": [
       "sin(x)*tan(x)**2"
      ]
     },
     "execution_count": 54,
     "metadata": {},
     "output_type": "execute_result"
    }
   ],
   "source": [
    "expr"
   ]
  },
  {
   "cell_type": "code",
   "execution_count": 55,
   "id": "dd86492b-fcd4-4b5e-8f96-45f680195ce7",
   "metadata": {},
   "outputs": [
    {
     "data": {
      "text/latex": [
       "$\\displaystyle \\cos{\\left(x \\right)} + \\frac{1}{\\cos{\\left(x \\right)}}$"
      ],
      "text/plain": [
       "cos(x) + 1/cos(x)"
      ]
     },
     "execution_count": 55,
     "metadata": {},
     "output_type": "execute_result"
    }
   ],
   "source": [
    "sympy.integrate(expr, x)"
   ]
  },
  {
   "cell_type": "markdown",
   "id": "8f71e27f-2c5c-4e15-b514-b3b984630315",
   "metadata": {},
   "source": [
    "---"
   ]
  },
  {
   "cell_type": "code",
   "execution_count": 56,
   "id": "e6c0d388-5538-4f5b-a7b4-28689a60fbe8",
   "metadata": {},
   "outputs": [],
   "source": [
    "expr = sympy.sqrt(sympy.tan(x))"
   ]
  },
  {
   "cell_type": "code",
   "execution_count": 57,
   "id": "2dc6a961-5641-472e-a629-a9d67af70724",
   "metadata": {},
   "outputs": [
    {
     "data": {
      "text/latex": [
       "$\\displaystyle \\sqrt{\\tan{\\left(x \\right)}}$"
      ],
      "text/plain": [
       "sqrt(tan(x))"
      ]
     },
     "execution_count": 57,
     "metadata": {},
     "output_type": "execute_result"
    }
   ],
   "source": [
    "expr"
   ]
  },
  {
   "cell_type": "code",
   "execution_count": 58,
   "id": "d7464897-d80c-4f78-ad22-f10a5377ae90",
   "metadata": {},
   "outputs": [
    {
     "data": {
      "text/latex": [
       "$\\displaystyle \\int \\sqrt{\\tan{\\left(x \\right)}}\\, dx$"
      ],
      "text/plain": [
       "Integral(sqrt(tan(x)), x)"
      ]
     },
     "execution_count": 58,
     "metadata": {},
     "output_type": "execute_result"
    }
   ],
   "source": [
    "sympy.integrate(expr, x)"
   ]
  },
  {
   "cell_type": "markdown",
   "id": "1942a338-7579-4fb5-bae8-77d587026781",
   "metadata": {},
   "source": [
    "Ezzel már nem bánik el a `sympy` sem..."
   ]
  },
  {
   "cell_type": "markdown",
   "id": "1a2f17a5-d5f0-40a3-824a-3b3b87c0bcf7",
   "metadata": {},
   "source": [
    "##### 4.2.2. Határozott integrálok"
   ]
  },
  {
   "cell_type": "code",
   "execution_count": 59,
   "id": "5faeee96-4bb2-4dee-a7a0-49b30e9310a7",
   "metadata": {},
   "outputs": [],
   "source": [
    "expr = sympy.sin(x)"
   ]
  },
  {
   "cell_type": "code",
   "execution_count": 60,
   "id": "937392ce-c912-4127-99e2-efb63dd7452a",
   "metadata": {},
   "outputs": [
    {
     "data": {
      "text/latex": [
       "$\\displaystyle \\sin{\\left(x \\right)}$"
      ],
      "text/plain": [
       "sin(x)"
      ]
     },
     "execution_count": 60,
     "metadata": {},
     "output_type": "execute_result"
    }
   ],
   "source": [
    "expr"
   ]
  },
  {
   "cell_type": "code",
   "execution_count": 61,
   "id": "fbc911f8-a8e8-4f0f-93fa-9ad9d17271ee",
   "metadata": {},
   "outputs": [
    {
     "data": {
      "text/latex": [
       "$\\displaystyle 2$"
      ],
      "text/plain": [
       "2"
      ]
     },
     "execution_count": 61,
     "metadata": {},
     "output_type": "execute_result"
    }
   ],
   "source": [
    "sympy.integrate(\n",
    "  expr,           # Az integrálandó kifejezés\n",
    "  (x, 0, sympy.pi)   # Az integrálási változó és a hozzá tartozó integrálási határok\n",
    ")"
   ]
  },
  {
   "cell_type": "code",
   "execution_count": 62,
   "id": "5d653372-c41b-4994-a973-d55d0437496c",
   "metadata": {},
   "outputs": [
    {
     "data": {
      "text/latex": [
       "$\\displaystyle 0$"
      ],
      "text/plain": [
       "0"
      ]
     },
     "execution_count": 62,
     "metadata": {},
     "output_type": "execute_result"
    }
   ],
   "source": [
    "sympy.integrate(\n",
    "  expr,             # Az integrálandó kifejezés\n",
    "  (x, 0, 2*sympy.pi)   # Az integrálási változó és a hozzá tartozó integrálási határok\n",
    ")"
   ]
  },
  {
   "cell_type": "markdown",
   "id": "2a1015d0-7fc9-4493-b11a-96d00d3f5bd4",
   "metadata": {},
   "source": [
    "---"
   ]
  },
  {
   "cell_type": "code",
   "execution_count": 63,
   "id": "8c1b0e2d-09dc-4366-87f6-173ca4b39a0c",
   "metadata": {},
   "outputs": [],
   "source": [
    "expr = sympy.exp(-x**2 - y**2)"
   ]
  },
  {
   "cell_type": "code",
   "execution_count": 64,
   "id": "e1ed8736-6e26-49bc-b6fa-f8d56b709b4f",
   "metadata": {},
   "outputs": [
    {
     "data": {
      "text/latex": [
       "$\\displaystyle e^{- x^{2} - y^{2}}$"
      ],
      "text/plain": [
       "exp(-x**2 - y**2)"
      ]
     },
     "execution_count": 64,
     "metadata": {},
     "output_type": "execute_result"
    }
   ],
   "source": [
    "expr"
   ]
  },
  {
   "cell_type": "code",
   "execution_count": 65,
   "id": "013754ee-dd63-4c60-b31e-6f47dec0f69c",
   "metadata": {},
   "outputs": [],
   "source": [
    "# A végtelent a `sympy` az 'oo' azonosítóval (két darab kis \"O\" betű) jelöli  \n",
    "inf = sympy.oo\n",
    "\n",
    "# Végtelen integrálási határokat ezzel könnyen deiniálhatunk\n",
    "lim_x = (x, -inf, inf) # Az `x` változó határait\n",
    "lim_y = (y, -inf, inf) # Az `y` változó határait"
   ]
  },
  {
   "cell_type": "code",
   "execution_count": 66,
   "id": "df47654c-5a2f-4125-b9e3-73ff293123b1",
   "metadata": {},
   "outputs": [
    {
     "data": {
      "text/latex": [
       "$\\displaystyle \\pi$"
      ],
      "text/plain": [
       "pi"
      ]
     },
     "execution_count": 66,
     "metadata": {},
     "output_type": "execute_result"
    }
   ],
   "source": [
    "sympy.integrate(expr, lim_x, lim_y)"
   ]
  },
  {
   "cell_type": "markdown",
   "id": "eb772d24-405d-40cf-811e-623d32c0c192",
   "metadata": {},
   "source": [
    "##### 4.2.3. Nem elvégzett integrálás\n",
    "\n",
    "Hasonlóan a deriválásnál látott `sympy.Derivate() class`hoz, az integrálás esetén is létezik egy ezzel analóg `class`, az `sympy.Integral`."
   ]
  },
  {
   "cell_type": "code",
   "execution_count": 67,
   "id": "f9cf3e63-190c-41a3-b500-b6964e8a3338",
   "metadata": {},
   "outputs": [],
   "source": [
    "integ = sympy.Integral(sympy.log(x)**2, x)"
   ]
  },
  {
   "cell_type": "code",
   "execution_count": 68,
   "id": "30309e1d-e362-43c6-8f1d-62fd2c8cb6da",
   "metadata": {},
   "outputs": [
    {
     "data": {
      "text/latex": [
       "$\\displaystyle \\int \\log{\\left(x \\right)}^{2}\\, dx$"
      ],
      "text/plain": [
       "Integral(log(x)**2, x)"
      ]
     },
     "execution_count": 68,
     "metadata": {},
     "output_type": "execute_result"
    }
   ],
   "source": [
    "integ"
   ]
  },
  {
   "cell_type": "code",
   "execution_count": 69,
   "id": "0a8b189b-18a5-4fb9-9c39-cd3250ff369e",
   "metadata": {},
   "outputs": [
    {
     "name": "stdout",
     "output_type": "stream",
     "text": [
      "Type of integrate expression:\n",
      "\t\t <class 'sympy.integrals.integrals.Integral'>\n",
      "-------------------------------------------------------\n"
     ]
    }
   ],
   "source": [
    "print('Type of integrate expression:\\n\\t\\t', type(integ))\n",
    "print('-'*55)"
   ]
  },
  {
   "cell_type": "code",
   "execution_count": 70,
   "id": "466725d0-afde-44d9-9ce9-1f29bc5e0fe3",
   "metadata": {},
   "outputs": [
    {
     "data": {
      "text/latex": [
       "$\\displaystyle x \\log{\\left(x \\right)}^{2} - 2 x \\log{\\left(x \\right)} + 2 x$"
      ],
      "text/plain": [
       "x*log(x)**2 - 2*x*log(x) + 2*x"
      ]
     },
     "execution_count": 70,
     "metadata": {},
     "output_type": "execute_result"
    }
   ],
   "source": [
    "integ.doit()"
   ]
  },
  {
   "cell_type": "markdown",
   "id": "9570fa84-428f-43a8-8d22-aac2afedf92c",
   "metadata": {},
   "source": [
    "#### 4.3. Határérték számítás"
   ]
  },
  {
   "cell_type": "markdown",
   "id": "2c1eb14a-2727-41cb-87e4-f2863edfecb3",
   "metadata": {},
   "source": [
    "##### 4.3.1. A kisbetűs `sympy.limit() class`"
   ]
  },
  {
   "cell_type": "code",
   "execution_count": 71,
   "id": "61a9d9f3-d071-4654-93e8-d4fca71cbada",
   "metadata": {},
   "outputs": [],
   "source": [
    "expr = sympy.sin(x)/x"
   ]
  },
  {
   "cell_type": "code",
   "execution_count": 72,
   "id": "98fe74a7-9f9e-4c9d-8a79-1d0d0c85c08d",
   "metadata": {},
   "outputs": [
    {
     "data": {
      "text/latex": [
       "$\\displaystyle \\frac{\\sin{\\left(x \\right)}}{x}$"
      ],
      "text/plain": [
       "sin(x)/x"
      ]
     },
     "execution_count": 72,
     "metadata": {},
     "output_type": "execute_result"
    }
   ],
   "source": [
    "expr"
   ]
  },
  {
   "cell_type": "code",
   "execution_count": 73,
   "id": "8b937779-3b49-4458-bc2f-01cb4f8e33e1",
   "metadata": {},
   "outputs": [
    {
     "data": {
      "text/latex": [
       "$\\displaystyle 1$"
      ],
      "text/plain": [
       "1"
      ]
     },
     "execution_count": 73,
     "metadata": {},
     "output_type": "execute_result"
    }
   ],
   "source": [
    "sympy.limit(expr, x, 0)"
   ]
  },
  {
   "cell_type": "code",
   "execution_count": 74,
   "id": "d62c0c64-966b-4bdb-b239-c097e51dcb4a",
   "metadata": {},
   "outputs": [
    {
     "data": {
      "text/latex": [
       "$\\displaystyle 0$"
      ],
      "text/plain": [
       "0"
      ]
     },
     "execution_count": 74,
     "metadata": {},
     "output_type": "execute_result"
    }
   ],
   "source": [
    "sympy.limit(expr, x, inf)"
   ]
  },
  {
   "cell_type": "markdown",
   "id": "d658b10b-841c-4732-9cd7-e0e4a422c3d9",
   "metadata": {},
   "source": [
    "##### 4.3.2. A nagybetűs `sympy.Limit() class`"
   ]
  },
  {
   "cell_type": "code",
   "execution_count": 75,
   "id": "8ef6650d-7271-4bb4-8380-9d02bb542a61",
   "metadata": {},
   "outputs": [],
   "source": [
    "limit = sympy.Limit(expr, x, 0)"
   ]
  },
  {
   "cell_type": "code",
   "execution_count": 76,
   "id": "60f50bc3-088d-4e42-a8a3-95eec1c8dca8",
   "metadata": {},
   "outputs": [
    {
     "data": {
      "text/latex": [
       "$\\displaystyle \\lim_{x \\to 0^+}\\left(\\frac{\\sin{\\left(x \\right)}}{x}\\right)$"
      ],
      "text/plain": [
       "Limit(sin(x)/x, x, 0)"
      ]
     },
     "execution_count": 76,
     "metadata": {},
     "output_type": "execute_result"
    }
   ],
   "source": [
    "limit"
   ]
  },
  {
   "cell_type": "code",
   "execution_count": 77,
   "id": "4efed4bd-d900-4868-bead-196e18119105",
   "metadata": {},
   "outputs": [
    {
     "name": "stdout",
     "output_type": "stream",
     "text": [
      "Type of limit expression:\n",
      "\t\t <class 'sympy.series.limits.Limit'>\n",
      "-------------------------------------------------------\n"
     ]
    }
   ],
   "source": [
    "print('Type of limit expression:\\n\\t\\t', type(limit))\n",
    "print('-'*55)"
   ]
  },
  {
   "cell_type": "code",
   "execution_count": 78,
   "id": "fe135139-eaac-42da-8f92-61cc71f2b81d",
   "metadata": {},
   "outputs": [
    {
     "data": {
      "text/latex": [
       "$\\displaystyle 1$"
      ],
      "text/plain": [
       "1"
      ]
     },
     "execution_count": 78,
     "metadata": {},
     "output_type": "execute_result"
    }
   ],
   "source": [
    "limit.doit()"
   ]
  },
  {
   "cell_type": "markdown",
   "id": "c7ff81be-6ec0-4b11-ab96-41c50ed53f53",
   "metadata": {},
   "source": [
    "##### 4.3.3. Alulról-felülről közelítés"
   ]
  },
  {
   "cell_type": "code",
   "execution_count": 79,
   "id": "d2fe2bab-4882-4f2a-97fd-fc5f26d90942",
   "metadata": {},
   "outputs": [],
   "source": [
    "limit_pos = sympy.Limit(1/x, x, 0, '+')\n",
    "limit_neg = sympy.Limit(1/x, x, 0, '-')"
   ]
  },
  {
   "cell_type": "code",
   "execution_count": 80,
   "id": "4400a66a-5e95-4988-ab32-eb5b2e3e8e70",
   "metadata": {},
   "outputs": [
    {
     "data": {
      "text/latex": [
       "$\\displaystyle \\lim_{x \\to 0^+} \\frac{1}{x}$"
      ],
      "text/plain": [
       "Limit(1/x, x, 0)"
      ]
     },
     "metadata": {},
     "output_type": "display_data"
    },
    {
     "data": {
      "text/latex": [
       "$\\displaystyle \\lim_{x \\to 0^-} \\frac{1}{x}$"
      ],
      "text/plain": [
       "Limit(1/x, x, 0, dir='-')"
      ]
     },
     "metadata": {},
     "output_type": "display_data"
    }
   ],
   "source": [
    "display(limit_pos)\n",
    "display(limit_neg)"
   ]
  },
  {
   "cell_type": "code",
   "execution_count": 81,
   "id": "c9f3b3e7-9426-4c84-a750-6bf072cb57af",
   "metadata": {},
   "outputs": [
    {
     "name": "stdout",
     "output_type": "stream",
     "text": [
      "Pozitív irányból közelítve:\n",
      "------------------------------\n"
     ]
    },
    {
     "data": {
      "text/latex": [
       "$\\displaystyle \\infty$"
      ],
      "text/plain": [
       "oo"
      ]
     },
     "metadata": {},
     "output_type": "display_data"
    },
    {
     "name": "stdout",
     "output_type": "stream",
     "text": [
      "\n",
      "Negatív irányból közelítve:\n",
      "------------------------------\n"
     ]
    },
    {
     "data": {
      "text/latex": [
       "$\\displaystyle -\\infty$"
      ],
      "text/plain": [
       "-oo"
      ]
     },
     "metadata": {},
     "output_type": "display_data"
    }
   ],
   "source": [
    "print('Pozitív irányból közelítve:\\n' +\n",
    "      '-'*30)\n",
    "display(limit_pos.doit())\n",
    "print()\n",
    "print('Negatív irányból közelítve:\\n' +\n",
    "      '-'*30)\n",
    "display(limit_neg.doit())"
   ]
  },
  {
   "cell_type": "markdown",
   "id": "85443c9f-a4bf-4954-8989-9dc78082e09b",
   "metadata": {},
   "source": [
    "#### 4.4. Taylor-sorba fejtés"
   ]
  },
  {
   "cell_type": "code",
   "execution_count": 82,
   "id": "4b771ec0-f2d1-4152-8c8b-e2bdbaadd321",
   "metadata": {},
   "outputs": [],
   "source": [
    "expr = sympy.exp(x)"
   ]
  },
  {
   "cell_type": "code",
   "execution_count": 83,
   "id": "612dcf78-fca8-4c30-8fe4-e4aa0b957364",
   "metadata": {},
   "outputs": [
    {
     "data": {
      "text/latex": [
       "$\\displaystyle e^{x}$"
      ],
      "text/plain": [
       "exp(x)"
      ]
     },
     "execution_count": 83,
     "metadata": {},
     "output_type": "execute_result"
    }
   ],
   "source": [
    "expr"
   ]
  },
  {
   "cell_type": "code",
   "execution_count": 84,
   "id": "b8a5a679-90a0-44a6-8dea-ccea526384bd",
   "metadata": {},
   "outputs": [
    {
     "data": {
      "text/latex": [
       "$\\displaystyle 1 + x + \\frac{x^{2}}{2} + \\frac{x^{3}}{6} + \\frac{x^{4}}{24} + \\frac{x^{5}}{120} + O\\left(x^{6}\\right)$"
      ],
      "text/plain": [
       "1 + x + x**2/2 + x**3/6 + x**4/24 + x**5/120 + O(x**6)"
      ]
     },
     "execution_count": 84,
     "metadata": {},
     "output_type": "execute_result"
    }
   ],
   "source": [
    "expr.series(x, x0=0, n=6)"
   ]
  },
  {
   "cell_type": "code",
   "execution_count": 85,
   "id": "653f5ada-035a-4a8c-bdf1-58e9eb9be3b8",
   "metadata": {},
   "outputs": [
    {
     "data": {
      "text/latex": [
       "$\\displaystyle \\frac{x^{5}}{120} + \\frac{x^{4}}{24} + \\frac{x^{3}}{6} + \\frac{x^{2}}{2} + x + 1$"
      ],
      "text/plain": [
       "x**5/120 + x**4/24 + x**3/6 + x**2/2 + x + 1"
      ]
     },
     "execution_count": 85,
     "metadata": {},
     "output_type": "execute_result"
    }
   ],
   "source": [
    "expr.series(x, x0=0, n=6).removeO()"
   ]
  },
  {
   "cell_type": "markdown",
   "id": "71a925da-dce8-4d17-98e0-06c2577cebdb",
   "metadata": {},
   "source": [
    "### 5. `Sympy` egyenletek megoldása"
   ]
  },
  {
   "cell_type": "markdown",
   "id": "ffacde03-8544-45c9-932a-35883c4571d5",
   "metadata": {},
   "source": [
    "`Sympy`-ban minden egyenlet az alábbi `class` formájában tárolódik:"
   ]
  },
  {
   "cell_type": "code",
   "execution_count": 86,
   "id": "f52c25cc-c033-491f-9d36-e370cc527565",
   "metadata": {},
   "outputs": [
    {
     "data": {
      "text/latex": [
       "$\\displaystyle x = y$"
      ],
      "text/plain": [
       "Eq(x, y)"
      ]
     },
     "execution_count": 86,
     "metadata": {},
     "output_type": "execute_result"
    }
   ],
   "source": [
    "sympy.Eq(\n",
    "  x, # Az egyenlet bal oldala\n",
    "  y  # Az egyenlet jobb oldala\n",
    ")"
   ]
  },
  {
   "cell_type": "markdown",
   "id": "38505c58-6954-41cb-a272-8d520ee8f20e",
   "metadata": {},
   "source": [
    "#### 5.1. Sima egyenletek"
   ]
  },
  {
   "cell_type": "markdown",
   "id": "17dd6f2d-e557-44e6-beea-1b6624f09172",
   "metadata": {},
   "source": [
    "##### `sympy.solveset()`\n",
    "\n",
    "Ez a függvény a legáltalánosabb egyenletmegoldó függvény, mely az egyenlet megoldásainak halmazával tér vissza (erre utal a nevében a `set` szó). Ennek szerepe hasonló az egyszerűsítéseknél említett `sympy.simplify()` függvényhez, mely az egyszerűsítések esetén volt \"általánosan, mindenre használható, mindent tartalmazó\" függvény."
   ]
  },
  {
   "cell_type": "code",
   "execution_count": 88,
   "id": "4959d681-b3f0-4fe3-84be-326d82393d0f",
   "metadata": {},
   "outputs": [
    {
     "data": {
      "text/latex": [
       "$\\displaystyle x^{2} = 1$"
      ],
      "text/plain": [
       "Eq(x**2, 1)"
      ]
     },
     "execution_count": 88,
     "metadata": {},
     "output_type": "execute_result"
    }
   ],
   "source": [
    "eq = sympy.Eq(x**2, 1)\n",
    "eq"
   ]
  },
  {
   "cell_type": "code",
   "execution_count": 89,
   "id": "fa683298-1e56-40f9-94b4-27331719cb88",
   "metadata": {},
   "outputs": [
    {
     "data": {
      "text/latex": [
       "$\\displaystyle \\left\\{-1, 1\\right\\}$"
      ],
      "text/plain": [
       "FiniteSet(-1, 1)"
      ]
     },
     "execution_count": 89,
     "metadata": {},
     "output_type": "execute_result"
    }
   ],
   "source": [
    "sympy.solveset(eq)"
   ]
  },
  {
   "cell_type": "code",
   "execution_count": 229,
   "id": "e3fd19d6-fe94-43c9-8aa9-75cee71233dc",
   "metadata": {},
   "outputs": [
    {
     "data": {
      "text/latex": [
       "$\\displaystyle x^{3} = 1$"
      ],
      "text/plain": [
       "Eq(x**3, 1)"
      ]
     },
     "execution_count": 229,
     "metadata": {},
     "output_type": "execute_result"
    }
   ],
   "source": [
    "eq = sympy.Eq(x**3, 1)\n",
    "eq"
   ]
  },
  {
   "cell_type": "code",
   "execution_count": 230,
   "id": "6236d880-ff84-42da-a1ad-74dc568f61ca",
   "metadata": {},
   "outputs": [
    {
     "data": {
      "text/latex": [
       "$\\displaystyle \\left\\{1, - \\frac{1}{2} - \\frac{\\sqrt{3} i}{2}, - \\frac{1}{2} + \\frac{\\sqrt{3} i}{2}\\right\\}$"
      ],
      "text/plain": [
       "FiniteSet(1, -1/2 - sqrt(3)*I/2, -1/2 + sqrt(3)*I/2)"
      ]
     },
     "execution_count": 230,
     "metadata": {},
     "output_type": "execute_result"
    }
   ],
   "source": [
    "sympy.solveset(eq)"
   ]
  },
  {
   "cell_type": "markdown",
   "id": "6f052a23-cd24-4e90-9563-c8f8dbf1fa88",
   "metadata": {},
   "source": [
    "Ha az egyenletnek nincs megoldása, akkor érthetően az üres halmazzal tér vissza:"
   ]
  },
  {
   "cell_type": "code",
   "execution_count": 90,
   "id": "730a9f96-6662-4a4c-bdbb-d5999daa1ade",
   "metadata": {},
   "outputs": [
    {
     "data": {
      "text/latex": [
       "$\\displaystyle \\text{False}$"
      ],
      "text/plain": [
       "False"
      ]
     },
     "execution_count": 90,
     "metadata": {},
     "output_type": "execute_result"
    }
   ],
   "source": [
    "eq = sympy.Eq(sympy.exp(x), 0)\n",
    "eq"
   ]
  },
  {
   "cell_type": "code",
   "execution_count": 91,
   "id": "b7b1205b-5106-4111-ab13-940e8e446024",
   "metadata": {},
   "outputs": [
    {
     "data": {
      "text/latex": [
       "$\\displaystyle \\emptyset$"
      ],
      "text/plain": [
       "EmptySet"
      ]
     },
     "execution_count": 91,
     "metadata": {},
     "output_type": "execute_result"
    }
   ],
   "source": [
    "sympy.solveset(eq)"
   ]
  },
  {
   "cell_type": "markdown",
   "id": "ccc56467-a8f1-4ce5-b36c-35c827d04a50",
   "metadata": {},
   "source": [
    "#### 5.2. Egyenletrendszerek"
   ]
  },
  {
   "cell_type": "markdown",
   "id": "8ae33c13-44b6-459d-83d5-2ae087d0f086",
   "metadata": {},
   "source": [
    "##### 5.2.1. `sympy.linsolve()`\n",
    "\n",
    "A `sympy.linsolve()` függvény a lineáris egyenletrendszerek megoldására alkalmaható `sympy` függvény. "
   ]
  },
  {
   "cell_type": "code",
   "execution_count": 92,
   "id": "6f78be3e-ad17-415e-a83a-e748ffc50f5c",
   "metadata": {},
   "outputs": [
    {
     "data": {
      "text/latex": [
       "$\\displaystyle x - y + z + 5 = 0$"
      ],
      "text/plain": [
       "Eq(x - y + z + 5, 0)"
      ]
     },
     "metadata": {},
     "output_type": "display_data"
    },
    {
     "data": {
      "text/latex": [
       "$\\displaystyle x + y - 2 z - 2 = 0$"
      ],
      "text/plain": [
       "Eq(x + y - 2*z - 2, 0)"
      ]
     },
     "metadata": {},
     "output_type": "display_data"
    }
   ],
   "source": [
    "eqs = [\n",
    "  sympy.Eq(x - y +   z + 5, 0),\n",
    "  sympy.Eq(x + y - 2*z - 2, 0)\n",
    "]\n",
    "\n",
    "display(eqs[0])\n",
    "display(eqs[1])"
   ]
  },
  {
   "cell_type": "code",
   "execution_count": 93,
   "id": "5943301e-7406-4ece-a3fc-c11a80bc809f",
   "metadata": {},
   "outputs": [
    {
     "data": {
      "text/latex": [
       "$\\displaystyle \\left\\{\\left( \\frac{z}{2} - \\frac{3}{2}, \\  \\frac{3 z}{2} + \\frac{7}{2}, \\  z\\right)\\right\\}$"
      ],
      "text/plain": [
       "FiniteSet((z/2 - 3/2, 3*z/2 + 7/2, z))"
      ]
     },
     "execution_count": 93,
     "metadata": {},
     "output_type": "execute_result"
    }
   ],
   "source": [
    "sympy.linsolve(eqs, (x, y, z))"
   ]
  },
  {
   "cell_type": "markdown",
   "id": "cb51f5e4-8ee6-4526-a4aa-09e0a8db6482",
   "metadata": {},
   "source": [
    "Az egyes elemek sorrendben a megadott változók (itt $x$, $y$ és $z$) lehetséges értékeit jelölik. A fenti egyenltben $z$ láthatóan tetszőleges értéket felvehet."
   ]
  },
  {
   "cell_type": "markdown",
   "id": "26f6cd0a-382e-46d5-b7a6-1e1f2025daea",
   "metadata": {},
   "source": [
    "##### 5.2.2 Többféle módon definiálható egyenletrendszerek"
   ]
  },
  {
   "cell_type": "code",
   "execution_count": 113,
   "id": "5bdb9b08-8ac4-4057-8b1f-04464f8209ba",
   "metadata": {},
   "outputs": [
    {
     "data": {
      "text/latex": [
       "$\\displaystyle x + y + z - 1$"
      ],
      "text/plain": [
       "x + y + z - 1"
      ]
     },
     "metadata": {},
     "output_type": "display_data"
    },
    {
     "data": {
      "text/latex": [
       "$\\displaystyle x + y + 2 z - 3$"
      ],
      "text/plain": [
       "x + y + 2*z - 3"
      ]
     },
     "metadata": {},
     "output_type": "display_data"
    }
   ],
   "source": [
    "# 1. módszer (sympy egyenletek)\n",
    "eqs = [\n",
    "  sympy.Eq(x + y +   z - 1, 0),\n",
    "  sympy.Eq(x + y + 2*z - 3, 0)\n",
    "]\n",
    "\n",
    "# Ez \"lerövidíthető\" az alábbi, fentivel ekvivalens formára\n",
    "eqs = [\n",
    "  x + y +   z - 1,\n",
    "  x + y + 2*z - 3\n",
    "]\n",
    "\n",
    "display(eqs[0])\n",
    "display(eqs[1])"
   ]
  },
  {
   "cell_type": "code",
   "execution_count": 114,
   "id": "20d69987-da73-4d2f-b67c-d8edf5c677ed",
   "metadata": {},
   "outputs": [
    {
     "data": {
      "text/latex": [
       "$\\displaystyle \\left\\{\\left( - y - 1, \\  y, \\  2\\right)\\right\\}$"
      ],
      "text/plain": [
       "FiniteSet((-y - 1, y, 2))"
      ]
     },
     "execution_count": 114,
     "metadata": {},
     "output_type": "execute_result"
    }
   ],
   "source": [
    "sympy.linsolve(eqs, (x, y, z))"
   ]
  },
  {
   "cell_type": "markdown",
   "id": "675bd068-0ed1-4201-8f72-d2903d63fc02",
   "metadata": {},
   "source": [
    "---"
   ]
  },
  {
   "cell_type": "code",
   "execution_count": 96,
   "id": "95bbeb7d-b389-4eec-8ca3-bca3749a3585",
   "metadata": {},
   "outputs": [],
   "source": [
    "# 2. módszer  (mátrix reprezentáció)\n",
    "eqs = sympy.Matrix((\n",
    "  [1, 1, 1, 1],\n",
    "  [1, 1, 2, 3]\n",
    "))"
   ]
  },
  {
   "cell_type": "code",
   "execution_count": 97,
   "id": "4fdd6bc6-3fc2-479c-8b89-85c600e778f8",
   "metadata": {},
   "outputs": [
    {
     "data": {
      "text/latex": [
       "$\\displaystyle \\left\\{\\left( - y - 1, \\  y, \\  2\\right)\\right\\}$"
      ],
      "text/plain": [
       "FiniteSet((-y - 1, y, 2))"
      ]
     },
     "execution_count": 97,
     "metadata": {},
     "output_type": "execute_result"
    }
   ],
   "source": [
    "sympy.linsolve(eqs, (x, y, z))"
   ]
  },
  {
   "cell_type": "markdown",
   "id": "85f83b1e-5454-441e-8a1a-698370a6bd3c",
   "metadata": {},
   "source": [
    "Mátrix formátumban történő megadásnál fontos figyelni az előjelekre! Mivel a fenti egyenletekben a $-1$ és $-3$ konstansok szerepeltek, így könnyen gondolhatnánk, hogy az itteni reprezentációban is a $-1$ és $-3$ értékeket kell írjuk a `sympy.Matrix()`-nak megadott listák (melyek a két egyenletet jelölik) utolsó elemébe. Ez azonban láthatóan nem így van.\n",
    "\n",
    "Ennek az oka, hogy míg a fenti reprezentációban pl. az első egyenlet esetén a\n",
    "\n",
    "```python\n",
    "sympy.Eq(x + y + z - 1, 0)\n",
    "```\n",
    "\n",
    "`sympy` egyenletet definiáltuk, addig mátrix reprezentáció során a `sympy.Matrix()` és a `sympy.linsolve()` szerencsétlen kölcsönhatása miatt mindig a\n",
    "\n",
    "```python\n",
    "sympy.Eq(x + y + z, 1)\n",
    "```\n",
    "\n",
    "formában szükséges gondolkodni. A konstans emiatt érthetően minden esetben előjelet vált, ahogy az ebben a cellában bemutatott két egyenlet esetén is látszik. Míg a `sympy` a legtöbb helyen megfelelően figyel és igyekszik konzisztens lenni, úgy ebben a dologban (feltehetően valamelyik függvény egyébként gördülékeny működését biztosítandó) ez sajnos nem így van."
   ]
  },
  {
   "cell_type": "code",
   "execution_count": 98,
   "id": "7154f25e-f98f-4c94-b755-6a1e24878a53",
   "metadata": {},
   "outputs": [],
   "source": [
    "# Még egy 3. módszer is létezik... :) Ami indokolatlanul bonyolult és felesleges.\n",
    "# De aki erre kíváncsi, megtalálja az alábbi címen:\n",
    "# https://docs.sympy.org/latest/tutorial/solvers.html "
   ]
  },
  {
   "cell_type": "markdown",
   "id": "48ba9ee3-f550-44e4-9712-c242976748db",
   "metadata": {},
   "source": [
    "##### 5.2.3. `sympy.nonlinsolve()`"
   ]
  },
  {
   "cell_type": "markdown",
   "id": "6399094d-14a0-427d-ba45-3c6d8eae3d30",
   "metadata": {},
   "source": [
    "Pl. itt egy tisztán képzetes megoldásokkal rendelkező egyenletrendszer:"
   ]
  },
  {
   "cell_type": "code",
   "execution_count": 99,
   "id": "e9b1b4cb-3ac4-4366-a722-67129be3c639",
   "metadata": {},
   "outputs": [
    {
     "data": {
      "text/latex": [
       "$\\displaystyle x^{2} + 1$"
      ],
      "text/plain": [
       "x**2 + 1"
      ]
     },
     "metadata": {},
     "output_type": "display_data"
    },
    {
     "data": {
      "text/latex": [
       "$\\displaystyle y^{2} + 1$"
      ],
      "text/plain": [
       "y**2 + 1"
      ]
     },
     "metadata": {},
     "output_type": "display_data"
    }
   ],
   "source": [
    "eqs = [\n",
    "  x**2 + 1,\n",
    "  y**2 + 1\n",
    "]\n",
    "\n",
    "display(eqs[0])\n",
    "display(eqs[1])"
   ]
  },
  {
   "cell_type": "code",
   "execution_count": 100,
   "id": "7c5e5fed-e9dc-440c-ba38-906e7e3110ce",
   "metadata": {},
   "outputs": [
    {
     "data": {
      "text/latex": [
       "$\\displaystyle \\left\\{\\left( - i, \\  - i\\right), \\left( - i, \\  i\\right), \\left( i, \\  - i\\right), \\left( i, \\  i\\right)\\right\\}$"
      ],
      "text/plain": [
       "FiniteSet((I, I), (-I, I), (I, -I), (-I, -I))"
      ]
     },
     "execution_count": 100,
     "metadata": {},
     "output_type": "execute_result"
    }
   ],
   "source": [
    "sympy.nonlinsolve(eqs, [x, y])"
   ]
  },
  {
   "cell_type": "markdown",
   "id": "998e4b47-3172-4e3c-8966-60b150bb45b9",
   "metadata": {},
   "source": [
    "---"
   ]
  },
  {
   "cell_type": "markdown",
   "id": "d2a59198-b1a4-4ca5-9873-834da83f7674",
   "metadata": {},
   "source": [
    "Itt egy másik egyenletrendszer, aminek végtelenül sok megoldása van. Míg $x=0$, addig $y$ bármilyen értéket felvehet:"
   ]
  },
  {
   "cell_type": "code",
   "execution_count": 101,
   "id": "f37ed14c-c609-4164-ae8f-82dfa4f35d70",
   "metadata": {},
   "outputs": [
    {
     "data": {
      "text/latex": [
       "$\\displaystyle x y$"
      ],
      "text/plain": [
       "x*y"
      ]
     },
     "metadata": {},
     "output_type": "display_data"
    },
    {
     "data": {
      "text/latex": [
       "$\\displaystyle x y - x$"
      ],
      "text/plain": [
       "x*y - x"
      ]
     },
     "metadata": {},
     "output_type": "display_data"
    }
   ],
   "source": [
    "eqs = [\n",
    "  x*y,\n",
    "  x*y - x\n",
    "]\n",
    "\n",
    "display(eqs[0])\n",
    "display(eqs[1])"
   ]
  },
  {
   "cell_type": "code",
   "execution_count": 102,
   "id": "b692af55-252e-430a-8334-af10a22670e7",
   "metadata": {},
   "outputs": [
    {
     "data": {
      "text/latex": [
       "$\\displaystyle \\left\\{\\left( 0, \\  y\\right)\\right\\}$"
      ],
      "text/plain": [
       "FiniteSet((0, y))"
      ]
     },
     "execution_count": 102,
     "metadata": {},
     "output_type": "execute_result"
    }
   ],
   "source": [
    "sympy.nonlinsolve(eqs, [x, y])"
   ]
  },
  {
   "cell_type": "markdown",
   "id": "eaecd048-112f-4887-86ae-189bc4c082a5",
   "metadata": {},
   "source": [
    "Sajnos a `sympy.nonlinsolve()` sem képes mindent megoldani. Vannak olyan bonyolultabb esetek, vagy egyenletrendszer típusok, amiknél (a fejlesztés jelenlegi stádiumában még) elhasal..."
   ]
  },
  {
   "cell_type": "markdown",
   "id": "c5fc8f31-a463-4eac-8ae5-2767ad3d2832",
   "metadata": {},
   "source": [
    "#### 5.3. Diffegyenletek"
   ]
  },
  {
   "cell_type": "code",
   "execution_count": 103,
   "id": "3f916d76-696b-4682-afd5-9cec7e9af1ea",
   "metadata": {},
   "outputs": [],
   "source": [
    "# Definiáljunk egy szimbolikus függvényt! (Ilyet is lehet)\n",
    "f = sympy.Function('f')"
   ]
  },
  {
   "cell_type": "code",
   "execution_count": 104,
   "id": "872143be-9154-4b18-bff7-398df9333d42",
   "metadata": {},
   "outputs": [],
   "source": [
    "# Definiáljunk az egyenlet két oldalán levő tagokat\n",
    "# (left-hand side; right-hand side)\n",
    "lh_side = f(x).diff(x, x) - 2*f(x).diff(x) + f(x)\n",
    "rh_side = sympy.sin(x)"
   ]
  },
  {
   "cell_type": "code",
   "execution_count": 105,
   "id": "1343ca4a-56eb-41d9-b3b8-a3037d1505e4",
   "metadata": {},
   "outputs": [
    {
     "data": {
      "text/latex": [
       "$\\displaystyle f{\\left(x \\right)} - 2 \\frac{d}{d x} f{\\left(x \\right)} + \\frac{d^{2}}{d x^{2}} f{\\left(x \\right)} = \\sin{\\left(x \\right)}$"
      ],
      "text/plain": [
       "Eq(f(x) - 2*Derivative(f(x), x) + Derivative(f(x), (x, 2)), sin(x))"
      ]
     },
     "execution_count": 105,
     "metadata": {},
     "output_type": "execute_result"
    }
   ],
   "source": [
    "diffeq = sympy.Eq(lh_side, rh_side)\n",
    "diffeq"
   ]
  },
  {
   "cell_type": "code",
   "execution_count": 106,
   "id": "03499d63-3548-4419-87ec-1300a5fcb69f",
   "metadata": {},
   "outputs": [
    {
     "data": {
      "text/latex": [
       "$\\displaystyle f{\\left(x \\right)} = \\left(C_{1} + C_{2} x\\right) e^{x} + \\frac{\\cos{\\left(x \\right)}}{2}$"
      ],
      "text/plain": [
       "Eq(f(x), (C1 + C2*x)*exp(x) + cos(x)/2)"
      ]
     },
     "execution_count": 106,
     "metadata": {},
     "output_type": "execute_result"
    }
   ],
   "source": [
    "sympy.dsolve(\n",
    "  diffeq, # A megoldandó egyenlet\n",
    "  f(x)    # Milyen szimbólumra/változóra oldjuk meg\n",
    ")"
   ]
  },
  {
   "cell_type": "markdown",
   "id": "e16dabab-86a2-402e-8e48-ca405d66776c",
   "metadata": {},
   "source": [
    "### 6. `Sympy` mátrixok\n",
    "\n",
    "Ezekről külön nem ejtenék szót. A rendelkezésre álló módszerek és még maguk a függvényhívások nevei is megegyeznek a `numpy`-ból ismertekkel. A különbséget itt tényleg csak a numerikus/szimbolikus számítási módszer jelenti.\n",
    "\n",
    "Részletesebben: https://docs.sympy.org/latest/tutorial/matrices.html"
   ]
  },
  {
   "cell_type": "markdown",
   "id": "1cda15f8-7854-4004-9c7f-e0710e42c0d4",
   "metadata": {},
   "source": [
    "## +1. HF"
   ]
  },
  {
   "cell_type": "markdown",
   "id": "3a97b9b2-1920-4658-86e4-25e011336826",
   "metadata": {},
   "source": [
    "1. Telepítsétek a `sympy`-t.\n",
    "2. Valami teljesen tetszőlegesen választott `sympy` függvény használatával próbáljátok ki, hogy tényleg működik-e telepítés után a `sympy`?\n",
    "3. A fizikában rengeteg olyan dolog van, amit szokás sorbafejteni, általában 2. rendig. Keressetek egy olyan függvényt, aminek tipikusan a sorbafejtett alakját szokás használni a fizikában és fejtsétek sorba a `sympy` segítségével 2. (vagy valamelyik) rendig. (Pro tippek: 1. A gravitációval bármilyen formában kapcsolatos jelenségek/mennyiségek/egyenletek esetén egy csomó ilyen van. 2. Ezeket kb. soha nem 0 körül kell sorba fejteni, hanem mondjuk valami paraméternek vett $h$ magasság, vagy $l$ távolság, vagy ilyesmi körül.)\n",
    "4. A kapott eredményt adjátok át egy Python változónak és deriváljátok le, majd printeljétek ki az eredményt.\n",
    "5. Ha ez valami kezelhető értékekkel rendelkező függvény, akkor ábrázoljtok is egy `matplotlib` ábrán."
   ]
  },
  {
   "cell_type": "markdown",
   "id": "2852f210-932c-45ac-a16b-b4ed0cc9b545",
   "metadata": {},
   "source": [
    "6. Küldjétek be a Notebookot/Python scriptet/macis borítékba csomagolt kézzel írt kódot\n",
    "- az alábbi időpontig: 2021.10.12. 23:59:59 (CEST)\n",
    "- az alábbi címre: masterdesky [kukac] protonmail.com\n",
    "\n",
    "(és légyszi írjátok le a neveteket is a levélbe, csak hogy tudjam, melyik, kitől jön)"
   ]
  },
  {
   "cell_type": "code",
   "execution_count": null,
   "id": "8d9137e7-b1fa-4046-aed8-c2b5552c40fd",
   "metadata": {},
   "outputs": [],
   "source": []
  }
 ],
 "metadata": {
  "kernelspec": {
   "display_name": "Python 3 (ipykernel)",
   "language": "python",
   "name": "python3"
  },
  "language_info": {
   "codemirror_mode": {
    "name": "ipython",
    "version": 3
   },
   "file_extension": ".py",
   "mimetype": "text/x-python",
   "name": "python",
   "nbconvert_exporter": "python",
   "pygments_lexer": "ipython3",
   "version": "3.9.7"
  }
 },
 "nbformat": 4,
 "nbformat_minor": 5
}
